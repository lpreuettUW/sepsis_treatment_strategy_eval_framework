{
 "cells": [
  {
   "cell_type": "code",
   "id": "initial_id",
   "metadata": {
    "collapsed": true,
    "ExecuteTime": {
     "end_time": "2024-05-27T22:38:50.147165Z",
     "start_time": "2024-05-27T22:38:49.104561Z"
    }
   },
   "source": [
    "import os\n",
    "import mlflow\n",
    "import numpy as np\n",
    "import pandas as pd\n",
    "import seaborn as sns\n",
    "from typing import Tuple, Dict, List\n",
    "import matplotlib.pyplot as plt"
   ],
   "outputs": [],
   "execution_count": 1
  },
  {
   "metadata": {
    "ExecuteTime": {
     "end_time": "2024-05-27T22:38:50.150362Z",
     "start_time": "2024-05-27T22:38:50.148213Z"
    }
   },
   "cell_type": "code",
   "source": "os.chdir('..') # change working directory to root",
   "id": "9cdca6ab3cb96391",
   "outputs": [],
   "execution_count": 2
  },
  {
   "metadata": {
    "ExecuteTime": {
     "end_time": "2024-05-27T22:38:53.231820Z",
     "start_time": "2024-05-27T22:38:50.151252Z"
    }
   },
   "cell_type": "code",
   "source": [
    "from utilities import mimic_iii_funcs\n",
    "from ope.behavior_policies.kmeans_sarsa import KMeansSarsa\n",
    "from mdp.mimic_iii.reward_functions.abstract_reward_function import AbstractRewardFunction\n",
    "from mdp.mimic_iii.reward_functions.factory import Factory as RewardFnFactory\n",
    "from mdp.mimic_iii.action_spaces.discrete import Discrete as DiscreteActionSpace"
   ],
   "id": "2e8b2ccc59f3226d",
   "outputs": [],
   "execution_count": 3
  },
  {
   "metadata": {
    "ExecuteTime": {
     "end_time": "2024-05-27T22:38:53.237807Z",
     "start_time": "2024-05-27T22:38:53.233090Z"
    }
   },
   "cell_type": "code",
   "source": [
    "# reward function details dict\n",
    "reward_fn_details_dict = {\n",
    "    'sparse': {\n",
    "        'mlflow_base_path': '/Users/larry/Documents/UWT/Thesis Work/rec_sys/models/mimic-iii_reward_fn_eval/vm/mlruns',\n",
    "        'state_space_run_id': 'd5233d8c966846b0b01406a162c26fe7',\n",
    "        'behavior_policy_run_id': '97629e709d7f45ec851200c6b0d497df',\n",
    "        'd3qn_run_id': '5944007810ef4e318106533adbd6ccb6',\n",
    "        'd3qn_magic_run_id': '85de6b80c8374e489bb49164bcbf29a5',\n",
    "        'ddpg_run_id': 'cba965ed952945a1a0d9660d807cf2a0',\n",
    "        'ddpg_magic_run_id': 'f835cde18011478693931ecc0247df63',\n",
    "    },\n",
    "    'wu': {\n",
    "        'mlflow_base_path': '/Users/larry/Documents/UWT/Thesis Work/rec_sys/models/mimic-iii_reward_fn_eval/0/mlruns',\n",
    "        'state_space_run_id': 'd5233d8c966846b0b01406a162c26fe7',\n",
    "        'behavior_policy_run_id': '6dd75e96646b45938f225f3964705324',\n",
    "        'd3qn_run_id': '5d140bdb06e344bd888876561f010f0e',\n",
    "        'd3qn_magic_run_id': 'fd3f75118286426f88ca127246e33cda',\n",
    "        'ddpg_run_id': '67c02a6bab0b4d74aadf585f7c8edd87',\n",
    "        'ddpg_magic_run_id': '18ed010dada041f79639230d54ca5db7',\n",
    "    },\n",
    "    'yong': {\n",
    "        'mlflow_base_path': '/Users/larry/Documents/UWT/Thesis Work/rec_sys/models/mimic-iii_reward_fn_eval/0/mlruns',\n",
    "        'state_space_run_id': 'd5233d8c966846b0b01406a162c26fe7',\n",
    "        'behavior_policy_run_id': 'ecac4334f1994260b2bcd420b671c53a',\n",
    "        'd3qn_run_id': '8f098fb13a5b41da9e77dac2ae13d321',\n",
    "        'd3qn_magic_run_id': '29ad84ac64ed4ab98f7e10488887f301',\n",
    "        'ddpg_run_id': '30cccf0e3c2c4ffaa1a9ea1c2bf23972',\n",
    "        'ddpg_magic_run_id': '7ecad48fb0e04388b048d183b195e5f8',\n",
    "    },\n",
    "    'raghu': {\n",
    "        'mlflow_base_path': '/Users/larry/Documents/UWT/Thesis Work/rec_sys/models/mimic-iii_reward_fn_eval/1/mlruns',\n",
    "        'state_space_run_id': 'd5233d8c966846b0b01406a162c26fe7',\n",
    "        'behavior_policy_run_id': '17d5de3272cb4e2892e6e438d22c2af4',\n",
    "        'd3qn_run_id': '9a5d00e3454840499ce4697fa6bf472c',\n",
    "        'd3qn_magic_run_id': 'd2584eef61284bc4bc9d57402927b750',\n",
    "        'ddpg_run_id': 'da45045dfb1042d1a21a06360ca55239',\n",
    "        'ddpg_magic_run_id': '01c5faa0f8ee4a5b9cb08a712060dc0e',\n",
    "    },\n",
    "    'peng': {\n",
    "        'mlflow_base_path': '/Users/larry/Documents/UWT/Thesis Work/rec_sys/models/mimic-iii_reward_fn_eval/1/mlruns',\n",
    "        'state_space_run_id': 'd5233d8c966846b0b01406a162c26fe7',\n",
    "        'behavior_policy_run_id': '1e6330b7604f4aad8da905239c1b5070',\n",
    "        'd3qn_run_id': '37d3ea87328d4c94a75c5d6e0011495a',\n",
    "        'd3qn_magic_run_id': '68161afeb1ff41bbbc795f91e6a42c5b',\n",
    "        'ddpg_run_id': 'b008b48ce39d4847ae2d377b4cbb91ba',\n",
    "        'ddpg_magic_run_id': '2d6c08b95c8e40c2a6a0473a3b12f737',\n",
    "        'reward_fn_run_id': '211c5a3c31f147f38d63b6b357a7b610',\n",
    "    },\n",
    "}"
   ],
   "id": "429cc11a20bf41d4",
   "outputs": [],
   "execution_count": 4
  },
  {
   "metadata": {
    "ExecuteTime": {
     "end_time": "2024-05-27T23:27:07.886339Z",
     "start_time": "2024-05-27T23:27:07.853206Z"
    }
   },
   "cell_type": "code",
   "source": [
    "def load_reward_fn(reward_fn_name_: str, reward_fn_results_dict_: Dict[str, str], split_: int) -> AbstractRewardFunction:\n",
    "    reward_fn_ = RewardFnFactory.create(reward_fn_name_)\n",
    "    if reward_fn_name_ == 'peng':\n",
    "        peng_run_id = reward_fn_results_dict_['reward_fn_run_id']\n",
    "        reward_fn_.load(f'runs:/{peng_run_id}/split_{split_}')\n",
    "    return reward_fn_\n",
    "\n",
    "def load_split_test_data(split: int, reward_fn_name_: str, reward_fn: AbstractRewardFunction, behavior_policy: KMeansSarsa) -> pd.DataFrame:\n",
    "    # load and preprocess mimic data\n",
    "    discrete_mimic_df = mimic_iii_funcs.load_standardized_mimic_data(split, reward_fn.raw_data_columns)\n",
    "    if reward_fn_name_ != 'peng':\n",
    "        reward_fn.update_rewards(discrete_mimic_df)  # scale rewards\n",
    "        discrete_mimic_df = mimic_iii_funcs.drop_all_raw_data_columns(discrete_mimic_df)\n",
    "    discrete_mimic_df, discrete_min_max_scaler, _ = mimic_iii_funcs.preprocess_mimic_data(discrete_mimic_df, 'mortality_plots')\n",
    "    discrete_mimic_df['mortality'] = ~discrete_mimic_df['survived']\n",
    "    if reward_fn_name_ == 'peng':\n",
    "        reward_fn.update_rewards(discrete_mimic_df)  # scale rewards\n",
    "    train_df, val_df, test_df = mimic_iii_funcs.train_val_test_split_mimic_data(discrete_mimic_df, 'kmeans_sarsa')\n",
    "    test_df['discrete_state'] = behavior_policy.discretize_states(np.vstack(test_df['state'].to_numpy()).astype(np.float32))\n",
    "    test_df['discrete_next_state'] = behavior_policy.discretize_states(np.vstack(test_df['next_state'].to_numpy()).astype(np.float32))\n",
    "    return test_df\n",
    "\n",
    "def compute_behavior_policy_return(traj_df: pd.DataFrame, gamma: float) -> float:\n",
    "    unique_trajs = traj_df['traj'].unique()\n",
    "    expected_return = 0.0\n",
    "    for traj_num in unique_trajs:\n",
    "        traj_view = traj_df.loc[traj_df['traj'] == traj_num].sort_values('step', ascending=True)\n",
    "        rewards = traj_view['r:reward'].to_numpy()\n",
    "        gammas = np.cumprod(np.full((rewards.shape[0],), gamma))\n",
    "        expected_return += np.dot(rewards, gammas)\n",
    "    expected_return /= unique_trajs.shape[0]\n",
    "    return expected_return\n",
    "\n",
    "def compute_learned_behavior_policy_return(traj_df: pd.DataFrame, behavior_policy_: KMeansSarsa) -> float:\n",
    "    unique_trajs = traj_df['traj'].unique()\n",
    "    expected_return = 0.0\n",
    "    for traj_num in unique_trajs:\n",
    "        traj_view = traj_df.loc[(traj_df['traj'] == traj_num) & (traj_df['step'] == 0)]\n",
    "        states = traj_view['discrete_state'].to_numpy()\n",
    "        actions = traj_view['a:action'].to_numpy()\n",
    "        q_val = behavior_policy_._Q[states, actions]\n",
    "        expected_return += q_val.item()\n",
    "    expected_return /= unique_trajs.shape[0]\n",
    "    return expected_return\n",
    "\n",
    "def bin_expected_returns(df_: pd.DataFrame, behavior_policy_: KMeansSarsa) -> Tuple[np.ndarray, np.ndarray, np.ndarray, np.ndarray]:\n",
    "    df_['expected_return'] = behavior_policy_.get_q_values(df_['discrete_state'].to_numpy(), df_['a:action'].to_numpy())\n",
    "    df_['return_bin'] = -1\n",
    "    min_q_val_bin = int(np.floor(df_['expected_return'].min()))\n",
    "    max_q_val_bin = int(np.ceil(df_['expected_return'].max()))\n",
    "    q_val_bins = np.arange(min_q_val_bin, max_q_val_bin + 1, dtype=np.int32)\n",
    "    mortality_pct = np.full((q_val_bins.shape[0],), 0.5, dtype=np.float32)\n",
    "    mortality_std = np.full((q_val_bins.shape[0],), 0.245, dtype=np.float32)\n",
    "    mortality_sem = np.full((q_val_bins.shape[0],), 0.245, dtype=np.float32)\n",
    "    for bin_num in q_val_bins:\n",
    "        bin_mask = (df_['expected_return'] >= bin_num - 0.5) & (df_['expected_return'] < bin_num + 0.5)\n",
    "        df_.loc[bin_mask, 'return_bin'] = bin_num\n",
    "        slice_mortality_count = df_.loc[bin_mask, 'mortality'].sum().item()\n",
    "        num_states_in_bin = bin_mask.sum()\n",
    "        if num_states_in_bin > 0:\n",
    "            mortality_pct[bin_num - min_q_val_bin] = slice_mortality_count / num_states_in_bin\n",
    "            mortality_std[bin_num - min_q_val_bin] = np.std(df_.loc[bin_mask, 'mortality'].to_numpy())\n",
    "            mortality_sem[bin_num - min_q_val_bin] = np.std(df_.loc[bin_mask, 'mortality'].to_numpy()) / np.sqrt(num_states_in_bin)\n",
    "    return q_val_bins, mortality_pct, mortality_std, mortality_sem\n",
    "\n",
    "def do_mortality_vs_expected_return_plot(df_: pd.DataFrame, behavior_policy_: KMeansSarsa, magic_expected_return: float, fqe_expected_return: float):\n",
    "    q_val_bins, mortality_pct, mortality_std, mortality_sem = bin_expected_returns(df_, behavior_policy_)\n",
    "    f, ax0 = plt.subplots(1, 1, figsize=(8,4))\n",
    "    sns.lineplot(df_, x='return_bin', y='mortality', ax=ax0)\n",
    "    ax0.set_xlabel('Expected return')\n",
    "    ax0.set_ylabel('Mortality')\n",
    "    ax0.set_title('Mortality vs Expected Return')\n",
    "    ax0.axvline(x=magic_expected_return, color='r', linestyle='--', label='MAGIC Expected Return')\n",
    "    ax0.axvline(x=fqe_expected_return, color='g', linestyle='--', label='FQE Expected Return')\n",
    "    #sns.lineplot(x=q_val_bins, y=mortality_pct, ax=ax1)\n",
    "    # ax1.fill_between(q_val_bins, mortality_pct - mortality_std, mortality_pct + mortality_std, alpha=0.2)\n",
    "    # ax1.set_xlabel('Expected return')\n",
    "    # ax1.set_ylabel('Mortality')\n",
    "    # ax1.set_title('Mortality vs Expected Return')\n",
    "    df_.drop(columns=['expected_return', 'return_bin'], inplace=True)\n",
    "    plt.show()\n",
    "\n",
    "def load_behavior_policy(result_dict: Dict[str, float], split: int) -> KMeansSarsa:\n",
    "    run_id = result_dict['behavior_policy_run_id']\n",
    "    behavior_policy = KMeansSarsa(n_clusters=8, n_actions=len(DiscreteActionSpace), num_episodes=1, reward_scale=15.0)\n",
    "    behavior_policy.load_model(run_id, f'split_{split}')\n",
    "    return behavior_policy\n",
    "\n",
    "def compute_mortality_pct_from_expected_return(q_val_bins: np.ndarray, mortality_pct: np.ndarray, expected_return: float) -> float:\n",
    "    rounded_return_expectation = int(np.round(expected_return))\n",
    "    bin_num = rounded_return_expectation - q_val_bins[0]\n",
    "    if bin_num < 0:\n",
    "        return mortality_pct[0]\n",
    "    elif bin_num >= q_val_bins.shape[0]:\n",
    "        return mortality_pct[-1]\n",
    "    else:\n",
    "        print(f'Bin Num: {bin_num} Mortality_pct dim: {mortality_pct.shape}')\n",
    "        return mortality_pct[bin_num]\n",
    "\n",
    "def extract_and_plot_mortality_vs_expected_return_for_split(reward_fn_name: str, reward_fn_details_dict_: Dict[str, Dict[str, str]], split: int):\n",
    "    reward_fn_results_dict = reward_fn_details_dict_[reward_fn_name]\n",
    "    reward_fn = load_reward_fn(reward_fn_name, reward_fn_results_dict, split)\n",
    "    behavior_policy = load_behavior_policy(reward_fn_results_dict, split)\n",
    "    test_df = load_split_test_data(split, reward_fn_name, reward_fn, behavior_policy)\n",
    "    magic_expected_returns, fqe_expected_returns = extract_ope_results(reward_fn_name, reward_fn_results_dict)\n",
    "    magic_expected_return, fqe_expected_return = magic_expected_returns[split], fqe_expected_returns[split]\n",
    "    do_mortality_vs_expected_return_plot(test_df, behavior_policy, magic_expected_return, fqe_expected_return)\n",
    "\n",
    "def extract_ope_results(reward_fn_name: str, reward_fn_details_dict_: Dict[str, str]) -> Tuple[List[float], List[float]]:\n",
    "    client = mlflow.MlflowClient(tracking_uri=reward_fn_details_dict_['mlflow_base_path'])\n",
    "    metric_history = client.get_metric_history(reward_fn_details_dict_['d3qn_magic_run_id'], 'magic')\n",
    "    magic_expected_returns = [metric.value for metric in metric_history]\n",
    "    metric_history = client.get_metric_history(reward_fn_details_dict_['d3qn_magic_run_id'], 'fqe')\n",
    "    fqe_expected_returns = [metric.value for metric in metric_history]\n",
    "    return magic_expected_returns, fqe_expected_returns\n",
    "\n",
    "def extract_mortality_pct(test_df: pd.DataFrame) -> float:\n",
    "    unique_traj_view = test_df[test_df['step'] == 0]\n",
    "    return unique_traj_view['mortality'].sum() / unique_traj_view.shape[0]\n",
    "\n",
    "def extract_and_print_mortality_result_table(reward_fn_name: str, reward_fn_details_dict_: Dict[str, Dict[str, str]]):\n",
    "    reward_fn_results_dict = reward_fn_details_dict_[reward_fn_name]\n",
    "    mlflow.set_tracking_uri(reward_fn_results_dict['mlflow_base_path'])\n",
    "    magic_expected_returns, fqe_expected_returns = extract_ope_results(reward_fn_name, reward_fn_results_dict)\n",
    "    learned_behavior_return, phys_mortality_approx, magic_mortality_approx, fqe_mortality_approx, test_data_mortality_pct = list(), list(), list(), list(), list()\n",
    "    for split in range(10):\n",
    "        reward_fn = load_reward_fn(reward_fn_name, reward_fn_results_dict, split)\n",
    "        behavior_policy = load_behavior_policy(reward_fn_results_dict, split)\n",
    "        test_df = load_split_test_data(split, reward_fn_name, reward_fn, behavior_policy)\n",
    "        test_data_mortality_pct.append(extract_mortality_pct(test_df))\n",
    "        learned_behavior_return.append(compute_learned_behavior_policy_return(test_df, behavior_policy))\n",
    "        q_val_bins, mortality_pct, mortality_std, mortality_sem = bin_expected_returns(test_df, behavior_policy)\n",
    "        phys_mortality_approx.append(compute_mortality_pct_from_expected_return(q_val_bins, mortality_pct, learned_behavior_return[-1]))\n",
    "        magic_mortality_approx.append(compute_mortality_pct_from_expected_return(q_val_bins, mortality_pct, magic_expected_returns[split]))\n",
    "        fqe_mortality_approx.append(compute_mortality_pct_from_expected_return(q_val_bins, mortality_pct, fqe_expected_returns[split]))\n",
    "    print(f'Test Data Mortality: {np.mean(test_data_mortality_pct)} +/- {np.std(test_data_mortality_pct)}')\n",
    "    print(f'Learned Behavior Policy Return: {np.mean(learned_behavior_return)} +/- {np.std(learned_behavior_return)}')\n",
    "    print(f'Physician Mortality Approximation: {np.mean(phys_mortality_approx)} +/- {np.std(phys_mortality_approx)}')\n",
    "    print(f'MAGIC Expected Return: {np.mean(magic_expected_returns)} +/- {np.std(magic_expected_returns)}')\n",
    "    print(f'MAGIC Mortality Approximation: {np.mean(magic_mortality_approx)} +/- {np.std(magic_mortality_approx)}')\n",
    "    print(f'FQE Expected Return: {np.mean(fqe_expected_returns)} +/- {np.std(fqe_expected_returns)}')\n",
    "    print(f'FQE Mortality Approximation: {np.mean(fqe_mortality_approx)} +/- {np.std(fqe_mortality_approx)}')"
   ],
   "id": "ad413f5065237eca",
   "outputs": [],
   "execution_count": 48
  },
  {
   "metadata": {
    "ExecuteTime": {
     "end_time": "2024-05-27T23:14:15.266646Z",
     "start_time": "2024-05-27T23:13:25.817524Z"
    }
   },
   "cell_type": "code",
   "source": "extract_and_print_mortality_result_table('sparse', reward_fn_details_dict)",
   "id": "dae57cc4c65211d8",
   "outputs": [
    {
     "name": "stdout",
     "output_type": "stream",
     "text": [
      "Test Data Mortality: 0.19364395367627257 +/- 2.7755575615628914e-17\n",
      "Learned Behavior Policy Return: 8.902496115323528 +/- 0.03511020408072673\n",
      "Physician Mortality Approximation: 0.21564383804798126 +/- 0.006888022646307945\n",
      "MAGIC Expected Return: 12.76890001296997 +/- 14.158017654877268\n",
      "MAGIC Mortality Approximation: 0.2663845121860504 +/- 0.40360939502716064\n",
      "FQE Expected Return: 4.951464453125 +/- 0.4089828093716974\n",
      "FQE Mortality Approximation: 0.3911542296409607 +/- 0.045238617807626724\n"
     ]
    }
   ],
   "execution_count": 39
  },
  {
   "metadata": {
    "ExecuteTime": {
     "end_time": "2024-05-27T22:51:27.101572Z",
     "start_time": "2024-05-27T22:51:17.918560Z"
    }
   },
   "cell_type": "code",
   "source": "extract_and_plot_mortality_vs_expected_return_for_split('sparse', reward_fn_details_dict, 3)",
   "id": "81cc53a01ce35155",
   "outputs": [
    {
     "data": {
      "text/plain": [
       "<Figure size 800x400 with 1 Axes>"
      ],
      "image/png": "[encoded data removed]"
     },
     "metadata": {},
     "output_type": "display_data"
    }
   ],
   "execution_count": 20
  },
  {
   "metadata": {
    "ExecuteTime": {
     "end_time": "2024-05-27T23:24:27.863595Z",
     "start_time": "2024-05-27T23:23:18.599108Z"
    }
   },
   "cell_type": "code",
   "source": "extract_and_print_mortality_result_table('wu', reward_fn_details_dict)",
   "id": "a810e37d5cfb8e8e",
   "outputs": [
    {
     "name": "stdout",
     "output_type": "stream",
     "text": [
      "Test Data Mortality: 0.19364395367627257 +/- 2.7755575615628914e-17\n",
      "Learned Behavior Policy Return: 14.275022609802926 +/- 0.07651923269472573\n",
      "Physician Mortality Approximation: 0.23589634895324707 +/- 0.009819685481488705\n",
      "MAGIC Expected Return: 22.834936451911926 +/- 24.220836221991192\n",
      "MAGIC Mortality Approximation: 0.2864460349082947 +/- 0.3013433516025543\n",
      "FQE Expected Return: 6.679338216145832 +/- 0.8009334766940748\n",
      "FQE Mortality Approximation: 0.44218239188194275 +/- 0.04505976289510727\n"
     ]
    }
   ],
   "execution_count": 43
  },
  {
   "metadata": {
    "ExecuteTime": {
     "end_time": "2024-05-27T23:28:27.582745Z",
     "start_time": "2024-05-27T23:27:20.770039Z"
    }
   },
   "cell_type": "code",
   "source": "extract_and_print_mortality_result_table('yong', reward_fn_details_dict)",
   "id": "8bc8e361de854c8c",
   "outputs": [
    {
     "name": "stdout",
     "output_type": "stream",
     "text": [
      "Bin Num: 1 Mortality_pct dim: (3,)\n",
      "Bin Num: 2 Mortality_pct dim: (3,)\n",
      "Bin Num: 1 Mortality_pct dim: (3,)\n",
      "Bin Num: 2 Mortality_pct dim: (3,)\n",
      "Bin Num: 2 Mortality_pct dim: (3,)\n",
      "Bin Num: 1 Mortality_pct dim: (3,)\n",
      "Bin Num: 2 Mortality_pct dim: (3,)\n",
      "Bin Num: 1 Mortality_pct dim: (3,)\n",
      "Bin Num: 2 Mortality_pct dim: (3,)\n",
      "Bin Num: 2 Mortality_pct dim: (3,)\n",
      "Bin Num: 1 Mortality_pct dim: (3,)\n",
      "Bin Num: 2 Mortality_pct dim: (3,)\n",
      "Bin Num: 2 Mortality_pct dim: (3,)\n",
      "Bin Num: 1 Mortality_pct dim: (3,)\n",
      "Bin Num: 1 Mortality_pct dim: (3,)\n",
      "Bin Num: 2 Mortality_pct dim: (3,)\n",
      "Bin Num: 1 Mortality_pct dim: (3,)\n",
      "Bin Num: 2 Mortality_pct dim: (3,)\n",
      "Bin Num: 2 Mortality_pct dim: (3,)\n",
      "Bin Num: 1 Mortality_pct dim: (3,)\n",
      "Bin Num: 1 Mortality_pct dim: (3,)\n",
      "Bin Num: 1 Mortality_pct dim: (3,)\n",
      "Bin Num: 2 Mortality_pct dim: (3,)\n",
      "Bin Num: 2 Mortality_pct dim: (3,)\n",
      "Bin Num: 1 Mortality_pct dim: (3,)\n",
      "Bin Num: 1 Mortality_pct dim: (3,)\n",
      "Test Data Mortality: 0.19364395367627257 +/- 2.7755575615628914e-17\n",
      "Learned Behavior Policy Return: 0.06077899677089198 +/- 0.0028118975294009374\n",
      "Physician Mortality Approximation: 0.2114669531583786 +/- 0.0\n",
      "MAGIC Expected Return: 1.4325447082519531 +/- 0.9660366174931458\n",
      "MAGIC Mortality Approximation: 0.47114667296409607 +/- 0.08655991405248642\n",
      "FQE Expected Return: 0.7473760579427083 +/- 0.2627422750326113\n",
      "FQE Mortality Approximation: 0.44229334592819214 +/- 0.11541321873664856\n"
     ]
    }
   ],
   "execution_count": 49
  },
  {
   "metadata": {
    "ExecuteTime": {
     "end_time": "2024-05-27T23:29:51.208854Z",
     "start_time": "2024-05-27T23:28:43.241716Z"
    }
   },
   "cell_type": "code",
   "source": "extract_and_print_mortality_result_table('raghu', reward_fn_details_dict)",
   "id": "86df56ddf43b18d2",
   "outputs": [
    {
     "name": "stdout",
     "output_type": "stream",
     "text": [
      "Bin Num: 24 Mortality_pct dim: (31,)\n",
      "Bin Num: 7 Mortality_pct dim: (31,)\n",
      "Bin Num: 21 Mortality_pct dim: (31,)\n",
      "Bin Num: 24 Mortality_pct dim: (31,)\n",
      "Bin Num: 23 Mortality_pct dim: (31,)\n",
      "Bin Num: 19 Mortality_pct dim: (31,)\n",
      "Bin Num: 24 Mortality_pct dim: (31,)\n",
      "Bin Num: 25 Mortality_pct dim: (31,)\n",
      "Bin Num: 19 Mortality_pct dim: (31,)\n",
      "Bin Num: 24 Mortality_pct dim: (31,)\n",
      "Bin Num: 20 Mortality_pct dim: (31,)\n",
      "Bin Num: 24 Mortality_pct dim: (31,)\n",
      "Bin Num: 1 Mortality_pct dim: (31,)\n",
      "Bin Num: 20 Mortality_pct dim: (31,)\n",
      "Bin Num: 24 Mortality_pct dim: (31,)\n",
      "Bin Num: 15 Mortality_pct dim: (31,)\n",
      "Bin Num: 21 Mortality_pct dim: (31,)\n",
      "Bin Num: 24 Mortality_pct dim: (31,)\n",
      "Bin Num: 10 Mortality_pct dim: (31,)\n",
      "Bin Num: 20 Mortality_pct dim: (31,)\n",
      "Bin Num: 24 Mortality_pct dim: (31,)\n",
      "Bin Num: 28 Mortality_pct dim: (31,)\n",
      "Bin Num: 19 Mortality_pct dim: (31,)\n",
      "Bin Num: 24 Mortality_pct dim: (31,)\n",
      "Bin Num: 20 Mortality_pct dim: (31,)\n",
      "Bin Num: 24 Mortality_pct dim: (31,)\n",
      "Bin Num: 20 Mortality_pct dim: (31,)\n",
      "Test Data Mortality: 0.19364395367627257 +/- 2.7755575615628914e-17\n",
      "Learned Behavior Policy Return: 8.927431304518013 +/- 0.062189278505445686\n",
      "Physician Mortality Approximation: 0.21731360256671906 +/- 0.008695682510733604\n",
      "MAGIC Expected Return: 5.450442862510681 +/- 10.617155529139447\n",
      "MAGIC Mortality Approximation: 0.38788360357284546 +/- 0.38843560218811035\n",
      "FQE Expected Return: 4.9066943359375 +/- 0.6987440881966209\n",
      "FQE Mortality Approximation: 0.40258193016052246 +/- 0.037164006382226944\n"
     ]
    }
   ],
   "execution_count": 50
  },
  {
   "metadata": {},
   "cell_type": "code",
   "outputs": [],
   "execution_count": null,
   "source": "",
   "id": "8dd6dccb05d83999"
  }
 ],
 "metadata": {
  "kernelspec": {
   "display_name": "Python 3",
   "language": "python",
   "name": "python3"
  },
  "language_info": {
   "codemirror_mode": {
    "name": "ipython",
    "version": 2
   },
   "file_extension": ".py",
   "mimetype": "text/x-python",
   "name": "python",
   "nbconvert_exporter": "python",
   "pygments_lexer": "ipython2",
   "version": "2.7.6"
  }
 },
 "nbformat": 4,
 "nbformat_minor": 5
}
