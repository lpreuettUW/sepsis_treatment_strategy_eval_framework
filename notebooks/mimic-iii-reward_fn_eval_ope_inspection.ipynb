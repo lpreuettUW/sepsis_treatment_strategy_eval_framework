{
 "cells": [
  {
   "cell_type": "code",
   "id": "initial_id",
   "metadata": {
    "collapsed": true,
    "ExecuteTime": {
     "end_time": "2024-05-24T21:17:18.974875Z",
     "start_time": "2024-05-24T21:17:13.625359Z"
    }
   },
   "source": [
    "import os\n",
    "import torch\n",
    "import mlflow\n",
    "import numpy as np\n",
    "import pandas as pd\n",
    "import seaborn as sns\n",
    "import matplotlib.pyplot as plt\n",
    "from matplotlib.colors import LogNorm\n",
    "from sklearn.preprocessing import MinMaxScaler\n",
    "from typing import Dict, Tuple, Optional, List"
   ],
   "outputs": [],
   "execution_count": 1
  },
  {
   "metadata": {
    "ExecuteTime": {
     "end_time": "2024-05-24T21:17:18.978546Z",
     "start_time": "2024-05-24T21:17:18.976100Z"
    }
   },
   "cell_type": "code",
   "source": "os.chdir('..') # change working directory to root",
   "id": "edb517d01a1d6d48",
   "outputs": [],
   "execution_count": 2
  },
  {
   "metadata": {
    "ExecuteTime": {
     "end_time": "2024-05-24T21:17:19.722906Z",
     "start_time": "2024-05-24T21:17:18.979826Z"
    }
   },
   "cell_type": "code",
   "source": [
    "from agents.td3 import TD3\n",
    "from agents.d3qn import D3QN\n",
    "from mdp.mimic_iii.reward_functions.abstract_reward_function import AbstractRewardFunction\n",
    "from mdp.mimic_iii.reward_functions.factory import Factory as RewardFnFactory\n",
    "from mdp.mimic_iii.action_spaces.discrete import Discrete as DiscreteActionSpace\n",
    "from mdp.mimic_iii.state_spaces.sparse_autoencoder import SparseAutoEncoder as MimicIIISparseAutoEncoderStateSpace\n",
    "from ope.behavior_policies.kmeans_sarsa import KMeansSarsa\n",
    "from utilities import mimic_iii_funcs\n",
    "from utilities.device_manager import DeviceManager"
   ],
   "id": "4356190f2ee6adbc",
   "outputs": [],
   "execution_count": 3
  },
  {
   "metadata": {
    "ExecuteTime": {
     "end_time": "2024-05-24T21:17:19.728784Z",
     "start_time": "2024-05-24T21:17:19.724057Z"
    }
   },
   "cell_type": "code",
   "source": [
    "# reward function details dict\n",
    "reward_fn_details_dict = {\n",
    "    'sparse': {\n",
    "        'mlflow_base_path': '<your_base_path>/mimic-iii_reward_fn_eval/vm/mlruns',\n",
    "        'state_space_run_id': 'd5233d8c966846b0b01406a162c26fe7',\n",
    "        'behavior_policy_run_id': '97629e709d7f45ec851200c6b0d497df',\n",
    "        'd3qn_run_id': '5944007810ef4e318106533adbd6ccb6',\n",
    "        'd3qn_magic_run_id': '85de6b80c8374e489bb49164bcbf29a5',\n",
    "        'ddpg_run_id': 'cba965ed952945a1a0d9660d807cf2a0',\n",
    "        'ddpg_magic_run_id': 'f835cde18011478693931ecc0247df63',\n",
    "    },\n",
    "    'wu': {\n",
    "        'mlflow_base_path': '<your_base_path>/mimic-iii_reward_fn_eval/0/mlruns',\n",
    "        'state_space_run_id': 'd5233d8c966846b0b01406a162c26fe7',\n",
    "        'behavior_policy_run_id': '6dd75e96646b45938f225f3964705324',\n",
    "        'd3qn_run_id': '5d140bdb06e344bd888876561f010f0e',\n",
    "        'd3qn_magic_run_id': 'fd3f75118286426f88ca127246e33cda',\n",
    "        'ddpg_run_id': '67c02a6bab0b4d74aadf585f7c8edd87',\n",
    "        'ddpg_magic_run_id': '18ed010dada041f79639230d54ca5db7',\n",
    "    },\n",
    "    'yong': {\n",
    "        'mlflow_base_path': '<your_base_path>/mimic-iii_reward_fn_eval/0/mlruns',\n",
    "        'state_space_run_id': 'd5233d8c966846b0b01406a162c26fe7',\n",
    "        'behavior_policy_run_id': 'ecac4334f1994260b2bcd420b671c53a',\n",
    "        'd3qn_run_id': '8f098fb13a5b41da9e77dac2ae13d321',\n",
    "        'd3qn_magic_run_id': '29ad84ac64ed4ab98f7e10488887f301',\n",
    "        'ddpg_run_id': '30cccf0e3c2c4ffaa1a9ea1c2bf23972',\n",
    "        'ddpg_magic_run_id': '7ecad48fb0e04388b048d183b195e5f8',\n",
    "    },\n",
    "    'raghu': {\n",
    "        'mlflow_base_path': '<your_base_path>/mimic-iii_reward_fn_eval/1/mlruns',\n",
    "        'state_space_run_id': 'd5233d8c966846b0b01406a162c26fe7',\n",
    "        'behavior_policy_run_id': '17d5de3272cb4e2892e6e438d22c2af4',\n",
    "        'd3qn_run_id': '9a5d00e3454840499ce4697fa6bf472c',\n",
    "        'd3qn_magic_run_id': 'd2584eef61284bc4bc9d57402927b750',\n",
    "        'ddpg_run_id': 'da45045dfb1042d1a21a06360ca55239',\n",
    "        'ddpg_magic_run_id': '01c5faa0f8ee4a5b9cb08a712060dc0e',\n",
    "    },\n",
    "    'peng': {\n",
    "        'mlflow_base_path': '<your_base_path>/mimic-iii_reward_fn_eval/1/mlruns',\n",
    "        'state_space_run_id': 'd5233d8c966846b0b01406a162c26fe7',\n",
    "        'behavior_policy_run_id': '1e6330b7604f4aad8da905239c1b5070',\n",
    "        'd3qn_run_id': '37d3ea87328d4c94a75c5d6e0011495a',\n",
    "        'd3qn_magic_run_id': '68161afeb1ff41bbbc795f91e6a42c5b',\n",
    "        'ddpg_run_id': 'b008b48ce39d4847ae2d377b4cbb91ba',\n",
    "        'ddpg_magic_run_id': '2d6c08b95c8e40c2a6a0473a3b12f737',\n",
    "        'reward_fn_run_id': '211c5a3c31f147f38d63b6b357a7b610',\n",
    "    },\n",
    "}"
   ],
   "id": "6a01623b5b7acec7",
   "outputs": [],
   "execution_count": 4
  },
  {
   "metadata": {
    "ExecuteTime": {
     "end_time": "2024-05-24T21:17:19.746129Z",
     "start_time": "2024-05-24T21:17:19.730147Z"
    }
   },
   "cell_type": "code",
   "source": [
    "def load_split_agent_test_data_reward_min_max(split_: int, reward_fn_name_: str, reward_fn: AbstractRewardFunction) -> Tuple[float, float]:\n",
    "    # load and preprocess mimic data\n",
    "    discrete_mimic_df = mimic_iii_funcs.load_standardized_mimic_data(split_, reward_fn.raw_data_columns)\n",
    "    if reward_fn_name_ != 'peng':\n",
    "        reward_fn.update_rewards(discrete_mimic_df)  # scale rewards\n",
    "        discrete_mimic_df = mimic_iii_funcs.drop_all_raw_data_columns(discrete_mimic_df)\n",
    "    continuous_mimic_df = discrete_mimic_df.copy()\n",
    "    discrete_mimic_df, discrete_min_max_scaler, _ = mimic_iii_funcs.preprocess_mimic_data(discrete_mimic_df, 'iql_discrete')\n",
    "    continuous_mimic_df, continuous_min_max_scaler, action_min_max_scaler = mimic_iii_funcs.preprocess_mimic_data(continuous_mimic_df, 'ddpg_cont')\n",
    "    if reward_fn_name_ == 'peng':\n",
    "        reward_fn.update_rewards(discrete_mimic_df)  # scale rewards\n",
    "        reward_fn.update_rewards(continuous_mimic_df)\n",
    "    max_reward_ = discrete_mimic_df['r:reward'].max().item()\n",
    "    min_reward_ = discrete_mimic_df['r:reward'].min().item()\n",
    "    return min_reward_, max_reward_\n",
    "\n",
    "def load_reward_fn(reward_fn_name_: str, reward_fn_results_dict_: Dict[str, str], split_: int) -> AbstractRewardFunction:\n",
    "    reward_fn_ = RewardFnFactory.create(reward_fn_name_)\n",
    "    if reward_fn_name_ == 'peng':\n",
    "        peng_run_id = reward_fn_results_dict_['reward_fn_run_id']\n",
    "        reward_fn_.load(f'runs:/{peng_run_id}/split_{split_}')\n",
    "    return reward_fn_\n",
    "\n",
    "def load_magic_results_for_plots(tracking_uri: str, run_id: str) -> pd.DataFrame:\n",
    "    client = mlflow.MlflowClient(tracking_uri=tracking_uri)\n",
    "    metric_history = client.get_metric_history(run_id, 'magic')\n",
    "    magic_vals = [metric.value for metric in metric_history]\n",
    "    result_dict = dict(j_step_weight=list(), j_step=list(), magic_val=list())\n",
    "    for j_step in {3, 5, 7, 10, float('inf'), -1}:\n",
    "        metric_history = client.get_metric_history(run_id, f'j_step_{j_step}')\n",
    "        for i, metric in enumerate(metric_history):\n",
    "            result_dict['j_step_weight'].append(metric.value)\n",
    "            result_dict['j_step'].append(j_step)\n",
    "            result_dict['magic_val'].append(magic_vals[i])\n",
    "    return pd.DataFrame.from_dict(result_dict)\n",
    "\n",
    "def load_magic_results_for_table(tracking_uri: str, run_id: str) -> Dict[str, float]:\n",
    "    client = mlflow.MlflowClient(tracking_uri=tracking_uri)\n",
    "    metric_history = client.get_metric_history(run_id, 'magic')\n",
    "    magic_vals = [metric.value for metric in metric_history]\n",
    "    magic_mean, magic_std = np.mean(magic_vals), np.std(magic_vals)\n",
    "    result_dict = dict(magic_mean=magic_mean, magic_std=magic_std)\n",
    "    for j_step in {3, 5, 7, 10, float('inf'), -1}:\n",
    "        metric_history = client.get_metric_history(run_id, f'j_step_{j_step}')\n",
    "        j_step_vals = [metric.value for metric in metric_history]\n",
    "        j_step_mean, j_step_std = np.mean(j_step_vals), np.std(j_step_vals)\n",
    "        result_dict[f'j_step_{j_step}_mean'] = j_step_mean\n",
    "        result_dict[f'j_step_{j_step}_std'] = j_step_std\n",
    "    return result_dict\n",
    "\n",
    "def do_magic_result_plot(results_df: pd.DataFrame):\n",
    "    f, (magic_ax, d3qn_weight_ax, ddpg_weight_ax) = plt.subplots(3, 1, figsize=(10, 25))\n",
    "    sns.boxplot(results_df, x='agent', y='magic_val', ax=magic_ax)\n",
    "    magic_ax.set_title('MAGIC Policy Estimates')\n",
    "    d3qn_result_view = results_df[results_df.agent == 'd3qn']\n",
    "    sns.barplot(d3qn_result_view, x='j_step', y='j_step_weight', ax=d3qn_weight_ax)\n",
    "    d3qn_weight_ax.set_title('D3QN Weights')\n",
    "    ddpg_result_view = results_df[results_df.agent == 'ddpg']\n",
    "    sns.barplot(ddpg_result_view, x='j_step', y='j_step_weight', ax=ddpg_weight_ax)\n",
    "    ddpg_weight_ax.set_title('DDPG Weights')\n",
    "    f.tight_layout()\n",
    "    plt.show()\n",
    "\n",
    "def extract_and_plot_magic_results(reward_fn_name: str, reward_fn_details_dict_: Dict[str, Dict[str, str]]):\n",
    "    reward_fn_results_dict = reward_fn_details_dict_[reward_fn_name]\n",
    "    mlflow.set_tracking_uri(reward_fn_results_dict['mlflow_base_path'])\n",
    "    min_rewards, max_rewards = list(), list()\n",
    "    for split in range(10):\n",
    "        reward_fn = load_reward_fn(reward_fn_name, reward_fn_results_dict, split)\n",
    "        min_reward, max_reward = load_split_agent_test_data_reward_min_max(split, reward_fn_name, reward_fn)\n",
    "        min_rewards.append(min_reward)\n",
    "        max_rewards.append(max_reward)\n",
    "    d3qn_magic_result_df = load_magic_results_for_plots(reward_fn_results_dict['mlflow_base_path'], reward_fn_results_dict['d3qn_magic_run_id'])\n",
    "    d3qn_magic_result_df['agent'] = 'd3qn'\n",
    "    ddpg_magic_result_df = load_magic_results_for_plots(reward_fn_results_dict['mlflow_base_path'], reward_fn_results_dict['ddpg_magic_run_id'])\n",
    "    ddpg_magic_result_df['agent'] = 'ddpg'\n",
    "    result_df = pd.concat((d3qn_magic_result_df, ddpg_magic_result_df)).reset_index()\n",
    "    result_df['min_reward'] = min_rewards * (result_df.shape[0] // 10)\n",
    "    result_df['max_reward'] = max_rewards * (result_df.shape[0] // 10)\n",
    "    do_magic_result_plot(result_df)\n",
    "    \n",
    "def print_table_from_result_dict(result_dict: Dict[str, float], agent_name: str):\n",
    "    print(f'{agent_name} Results:')\n",
    "    print(f'Min Reward: {result_dict[\"mean_reward_min\"]:.4f} +/- {result_dict[\"std_reward_min\"]:.4f}')\n",
    "    print(f'Max Reward: {result_dict[\"mean_reward_max\"]:.4f} +/- {result_dict[\"std_reward_max\"]:.4f}')\n",
    "    print(f'MAGIC: {result_dict[\"magic_mean\"]:.4f} +/- {result_dict[\"magic_std\"]:.4f}')\n",
    "    for j_step in {3, 5, 7, 10, float('inf'), -1}:\n",
    "        j_step_str = f'j_step_{j_step}'\n",
    "        print(f'{j_step_str}: {result_dict[f\"{j_step_str}_mean\"]:.4f} +/- {result_dict[f\"{j_step_str}_std\"]:.4f}')\n",
    "    \n",
    "def extract_and_print_magic_result_table(reward_fn_name: str, reward_fn_details_dict_: Dict[str, Dict[str, str]]):\n",
    "    reward_fn_results_dict = reward_fn_details_dict_[reward_fn_name]\n",
    "    mlflow.set_tracking_uri(reward_fn_results_dict['mlflow_base_path'])\n",
    "    min_rewards, max_rewards = list(), list()\n",
    "    for split in range(10):\n",
    "        reward_fn = load_reward_fn(reward_fn_name, reward_fn_results_dict, split)\n",
    "        min_reward, max_reward = load_split_agent_test_data_reward_min_max(split, reward_fn_name, reward_fn)\n",
    "        min_rewards.append(min_reward)\n",
    "        max_rewards.append(max_reward)\n",
    "    mean_reward_min, mean_reward_max = np.mean(min_rewards), np.mean(max_rewards)\n",
    "    std_reward_min, std_reward_max = np.std(min_rewards), np.std(max_rewards)\n",
    "    d3qn_result_dict = load_magic_results_for_table(reward_fn_results_dict['mlflow_base_path'], reward_fn_results_dict['d3qn_magic_run_id'])\n",
    "    ddpg_result_dict = load_magic_results_for_table(reward_fn_results_dict['mlflow_base_path'], reward_fn_results_dict['ddpg_magic_run_id'])\n",
    "    for result_dict in (d3qn_result_dict, ddpg_result_dict):\n",
    "        result_dict['mean_reward_min'] = mean_reward_min\n",
    "        result_dict['std_reward_min'] = std_reward_min\n",
    "        result_dict['mean_reward_max'] = mean_reward_max\n",
    "        result_dict['std_reward_max'] = std_reward_max\n",
    "    print_table_from_result_dict(d3qn_result_dict, 'D3QN')\n",
    "    print_table_from_result_dict(ddpg_result_dict, 'DDPG')\n",
    "    "
   ],
   "id": "c69c610b0f54337e",
   "outputs": [],
   "execution_count": 5
  },
  {
   "metadata": {
    "ExecuteTime": {
     "end_time": "2024-05-20T06:52:28.443302Z",
     "start_time": "2024-05-20T06:51:58.062979Z"
    }
   },
   "cell_type": "code",
   "source": "extract_and_plot_magic_results('sparse', reward_fn_details_dict)",
   "id": "55fadb238cfe3423",
   "outputs": [
    {
     "data": {
      "text/plain": [
       "<Figure size 1000x2500 with 3 Axes>"
      ],
      "image/png": "[encoded data removed]"
     },
     "metadata": {},
     "output_type": "display_data"
    }
   ],
   "execution_count": 52
  },
  {
   "metadata": {
    "ExecuteTime": {
     "end_time": "2024-05-20T06:53:26.548988Z",
     "start_time": "2024-05-20T06:52:44.073436Z"
    }
   },
   "cell_type": "code",
   "source": "extract_and_plot_magic_results('wu', reward_fn_details_dict)",
   "id": "c064b8dc2195fe0f",
   "outputs": [
    {
     "data": {
      "text/plain": [
       "<Figure size 1000x2500 with 3 Axes>"
      ],
      "image/png": "[encoded data removed]"
     },
     "metadata": {},
     "output_type": "display_data"
    }
   ],
   "execution_count": 53
  },
  {
   "metadata": {
    "ExecuteTime": {
     "end_time": "2024-05-20T06:54:13.113145Z",
     "start_time": "2024-05-20T06:53:26.550910Z"
    }
   },
   "cell_type": "code",
   "source": "extract_and_plot_magic_results('yong', reward_fn_details_dict)",
   "id": "86d7667610240dc",
   "outputs": [
    {
     "data": {
      "text/plain": [
       "<Figure size 1000x2500 with 3 Axes>"
      ],
      "image/png": "[encoded data removed]"
     },
     "metadata": {},
     "output_type": "display_data"
    }
   ],
   "execution_count": 54
  },
  {
   "metadata": {
    "ExecuteTime": {
     "end_time": "2024-05-20T06:54:58.237511Z",
     "start_time": "2024-05-20T06:54:13.114264Z"
    }
   },
   "cell_type": "code",
   "source": "extract_and_plot_magic_results('raghu', reward_fn_details_dict)",
   "id": "9253defeb3ecac9d",
   "outputs": [
    {
     "data": {
      "text/plain": [
       "<Figure size 1000x2500 with 3 Axes>"
      ],
      "image/png": "[encoded data removed]"
     },
     "metadata": {},
     "output_type": "display_data"
    }
   ],
   "execution_count": 55
  },
  {
   "metadata": {
    "ExecuteTime": {
     "end_time": "2024-05-20T06:56:40.064348Z",
     "start_time": "2024-05-20T06:54:58.239522Z"
    }
   },
   "cell_type": "code",
   "source": "extract_and_plot_magic_results('peng', reward_fn_details_dict)",
   "id": "7dce18c11a7d3759",
   "outputs": [
    {
     "name": "stderr",
     "output_type": "stream",
     "text": [
      "2024/05/19 23:54:58 WARNING mlflow.pytorch: Stored model version '2.0.1+cu117' does not match installed PyTorch version '2.0.1'\n",
      "2024/05/19 23:55:07 WARNING mlflow.pytorch: Stored model version '2.0.1+cu117' does not match installed PyTorch version '2.0.1'\n",
      "2024/05/19 23:55:16 WARNING mlflow.pytorch: Stored model version '2.0.1+cu117' does not match installed PyTorch version '2.0.1'\n",
      "2024/05/19 23:55:25 WARNING mlflow.pytorch: Stored model version '2.0.1+cu117' does not match installed PyTorch version '2.0.1'\n",
      "2024/05/19 23:55:35 WARNING mlflow.pytorch: Stored model version '2.0.1+cu117' does not match installed PyTorch version '2.0.1'\n",
      "2024/05/19 23:55:44 WARNING mlflow.pytorch: Stored model version '2.0.1+cu117' does not match installed PyTorch version '2.0.1'\n",
      "2024/05/19 23:55:55 WARNING mlflow.pytorch: Stored model version '2.0.1+cu117' does not match installed PyTorch version '2.0.1'\n",
      "2024/05/19 23:56:05 WARNING mlflow.pytorch: Stored model version '2.0.1+cu117' does not match installed PyTorch version '2.0.1'\n",
      "2024/05/19 23:56:17 WARNING mlflow.pytorch: Stored model version '2.0.1+cu117' does not match installed PyTorch version '2.0.1'\n",
      "2024/05/19 23:56:27 WARNING mlflow.pytorch: Stored model version '2.0.1+cu117' does not match installed PyTorch version '2.0.1'\n"
     ]
    },
    {
     "data": {
      "text/plain": [
       "<Figure size 1000x2500 with 3 Axes>"
      ],
      "image/png": "[encoded data removed]"
     },
     "metadata": {},
     "output_type": "display_data"
    }
   ],
   "execution_count": 56
  },
  {
   "metadata": {
    "ExecuteTime": {
     "end_time": "2024-05-20T07:36:46.963061Z",
     "start_time": "2024-05-20T07:36:16.411888Z"
    }
   },
   "cell_type": "code",
   "source": "extract_and_print_magic_result_table('sparse', reward_fn_details_dict)",
   "id": "be736e68fd70fe4e",
   "outputs": [
    {
     "name": "stdout",
     "output_type": "stream",
     "text": [
      "D3QN Results:\n",
      "Min Reward: -15.0000 +/- 0.0000\n",
      "Max Reward: 15.0000 +/- 0.0000\n",
      "MAGIC: 12.7689 +/- 14.1580\n",
      "j_step_3: 0.0000 +/- 0.0000\n",
      "j_step_5: 0.0000 +/- 0.0000\n",
      "j_step_7: 0.0000 +/- 0.0000\n",
      "j_step_10: 0.0000 +/- 0.0000\n",
      "j_step_inf: 1.0000 +/- 0.0000\n",
      "j_step_-1: 0.0000 +/- 0.0000\n",
      "DDPG Results:\n",
      "Min Reward: -15.0000 +/- 0.0000\n",
      "Max Reward: 15.0000 +/- 0.0000\n",
      "MAGIC: 2.5864 +/- 0.9632\n",
      "j_step_3: 0.0000 +/- 0.0000\n",
      "j_step_5: 0.0000 +/- 0.0000\n",
      "j_step_7: 0.0000 +/- 0.0000\n",
      "j_step_10: 0.0000 +/- 0.0000\n",
      "j_step_inf: 0.9462 +/- 0.1613\n",
      "j_step_-1: 0.0538 +/- 0.1613\n"
     ]
    }
   ],
   "execution_count": 69
  },
  {
   "metadata": {
    "ExecuteTime": {
     "end_time": "2024-05-20T07:37:27.808980Z",
     "start_time": "2024-05-20T07:36:46.964936Z"
    }
   },
   "cell_type": "code",
   "source": "extract_and_print_magic_result_table('wu', reward_fn_details_dict)",
   "id": "6cebdf0314be4311",
   "outputs": [
    {
     "name": "stdout",
     "output_type": "stream",
     "text": [
      "D3QN Results:\n",
      "Min Reward: -24.0000 +/- 0.0000\n",
      "Max Reward: 24.0000 +/- 0.0000\n",
      "MAGIC: 22.8349 +/- 24.2208\n",
      "j_step_3: 0.0000 +/- 0.0000\n",
      "j_step_5: 0.0000 +/- 0.0000\n",
      "j_step_7: 0.0000 +/- 0.0000\n",
      "j_step_10: 0.0000 +/- 0.0000\n",
      "j_step_inf: 1.0000 +/- 0.0000\n",
      "j_step_-1: 0.0000 +/- 0.0000\n",
      "DDPG Results:\n",
      "Min Reward: -24.0000 +/- 0.0000\n",
      "Max Reward: 24.0000 +/- 0.0000\n",
      "MAGIC: 5.9473 +/- 149.2992\n",
      "j_step_3: 0.0000 +/- 0.0000\n",
      "j_step_5: 0.0000 +/- 0.0000\n",
      "j_step_7: 0.0000 +/- 0.0000\n",
      "j_step_10: 0.0000 +/- 0.0000\n",
      "j_step_inf: 0.9071 +/- 0.2787\n",
      "j_step_-1: 0.0929 +/- 0.2787\n"
     ]
    }
   ],
   "execution_count": 70
  },
  {
   "metadata": {
    "ExecuteTime": {
     "end_time": "2024-05-20T07:38:08.583686Z",
     "start_time": "2024-05-20T07:37:27.810279Z"
    }
   },
   "cell_type": "code",
   "source": "extract_and_print_magic_result_table('yong', reward_fn_details_dict)",
   "id": "14c3b407f5347b37",
   "outputs": [
    {
     "name": "stdout",
     "output_type": "stream",
     "text": [
      "D3QN Results:\n",
      "Min Reward: -2.8000 +/- 0.0000\n",
      "Max Reward: 2.5500 +/- 0.0000\n",
      "MAGIC: 1.4325 +/- 0.9660\n",
      "j_step_3: 0.0843 +/- 0.1721\n",
      "j_step_5: 0.0000 +/- 0.0000\n",
      "j_step_7: 0.0000 +/- 0.0000\n",
      "j_step_10: 0.0341 +/- 0.1022\n",
      "j_step_inf: 0.8817 +/- 0.2402\n",
      "j_step_-1: 0.0000 +/- 0.0000\n",
      "DDPG Results:\n",
      "Min Reward: -2.8000 +/- 0.0000\n",
      "Max Reward: 2.5500 +/- 0.0000\n",
      "MAGIC: -0.2013 +/- 0.6693\n",
      "j_step_3: 0.0000 +/- 0.0000\n",
      "j_step_5: 0.0000 +/- 0.0000\n",
      "j_step_7: 0.1517 +/- 0.1911\n",
      "j_step_10: 0.1459 +/- 0.1856\n",
      "j_step_inf: 0.6350 +/- 0.3039\n",
      "j_step_-1: 0.0675 +/- 0.1350\n"
     ]
    }
   ],
   "execution_count": 71
  },
  {
   "metadata": {
    "ExecuteTime": {
     "end_time": "2024-05-20T07:38:48.449302Z",
     "start_time": "2024-05-20T07:38:08.585827Z"
    }
   },
   "cell_type": "code",
   "source": "extract_and_print_magic_result_table('raghu', reward_fn_details_dict)",
   "id": "93d8c1ab68504c6c",
   "outputs": [
    {
     "name": "stdout",
     "output_type": "stream",
     "text": [
      "D3QN Results:\n",
      "Min Reward: -15.0000 +/- 0.0000\n",
      "Max Reward: 15.0000 +/- 0.0000\n",
      "MAGIC: 5.4504 +/- 10.6172\n",
      "j_step_3: 0.0000 +/- 0.0000\n",
      "j_step_5: 0.0000 +/- 0.0000\n",
      "j_step_7: 0.0000 +/- 0.0000\n",
      "j_step_10: 0.0765 +/- 0.2296\n",
      "j_step_inf: 0.9235 +/- 0.2296\n",
      "j_step_-1: 0.0000 +/- 0.0000\n",
      "DDPG Results:\n",
      "Min Reward: -15.0000 +/- 0.0000\n",
      "Max Reward: 15.0000 +/- 0.0000\n",
      "MAGIC: 2.5611 +/- 2.3253\n",
      "j_step_3: 0.0000 +/- 0.0000\n",
      "j_step_5: 0.0000 +/- 0.0000\n",
      "j_step_7: 0.0000 +/- 0.0000\n",
      "j_step_10: 0.0501 +/- 0.1503\n",
      "j_step_inf: 0.9499 +/- 0.1503\n",
      "j_step_-1: 0.0000 +/- 0.0000\n"
     ]
    }
   ],
   "execution_count": 72
  },
  {
   "metadata": {
    "ExecuteTime": {
     "end_time": "2024-05-20T07:40:19.882522Z",
     "start_time": "2024-05-20T07:38:48.450625Z"
    }
   },
   "cell_type": "code",
   "source": "extract_and_print_magic_result_table('peng', reward_fn_details_dict)",
   "id": "bcc28e76e165d112",
   "outputs": [
    {
     "name": "stderr",
     "output_type": "stream",
     "text": [
      "2024/05/20 00:38:48 WARNING mlflow.pytorch: Stored model version '2.0.1+cu117' does not match installed PyTorch version '2.0.1'\n",
      "2024/05/20 00:38:57 WARNING mlflow.pytorch: Stored model version '2.0.1+cu117' does not match installed PyTorch version '2.0.1'\n",
      "2024/05/20 00:39:06 WARNING mlflow.pytorch: Stored model version '2.0.1+cu117' does not match installed PyTorch version '2.0.1'\n",
      "2024/05/20 00:39:16 WARNING mlflow.pytorch: Stored model version '2.0.1+cu117' does not match installed PyTorch version '2.0.1'\n",
      "2024/05/20 00:39:24 WARNING mlflow.pytorch: Stored model version '2.0.1+cu117' does not match installed PyTorch version '2.0.1'\n",
      "2024/05/20 00:39:34 WARNING mlflow.pytorch: Stored model version '2.0.1+cu117' does not match installed PyTorch version '2.0.1'\n",
      "2024/05/20 00:39:43 WARNING mlflow.pytorch: Stored model version '2.0.1+cu117' does not match installed PyTorch version '2.0.1'\n",
      "2024/05/20 00:39:53 WARNING mlflow.pytorch: Stored model version '2.0.1+cu117' does not match installed PyTorch version '2.0.1'\n",
      "2024/05/20 00:40:02 WARNING mlflow.pytorch: Stored model version '2.0.1+cu117' does not match installed PyTorch version '2.0.1'\n",
      "2024/05/20 00:40:10 WARNING mlflow.pytorch: Stored model version '2.0.1+cu117' does not match installed PyTorch version '2.0.1'\n"
     ]
    },
    {
     "name": "stdout",
     "output_type": "stream",
     "text": [
      "D3QN Results:\n",
      "Min Reward: -4.0443 +/- 0.1901\n",
      "Max Reward: 3.4826 +/- 0.1908\n",
      "MAGIC: -0.3436 +/- 4.6225\n",
      "j_step_3: 0.0000 +/- 0.0000\n",
      "j_step_5: 0.0771 +/- 0.1565\n",
      "j_step_7: 0.0336 +/- 0.1007\n",
      "j_step_10: 0.0000 +/- 0.0000\n",
      "j_step_inf: 0.8893 +/- 0.2267\n",
      "j_step_-1: 0.0000 +/- 0.0000\n",
      "DDPG Results:\n",
      "Min Reward: -4.0443 +/- 0.1901\n",
      "Max Reward: 3.4826 +/- 0.1908\n",
      "MAGIC: 0.0880 +/- 0.2575\n",
      "j_step_3: 0.0229 +/- 0.0688\n",
      "j_step_5: 0.0248 +/- 0.0744\n",
      "j_step_7: 0.0668 +/- 0.1336\n",
      "j_step_10: 0.1563 +/- 0.2013\n",
      "j_step_inf: 0.6456 +/- 0.3001\n",
      "j_step_-1: 0.0836 +/- 0.1715\n"
     ]
    }
   ],
   "execution_count": 73
  },
  {
   "metadata": {
    "ExecuteTime": {
     "end_time": "2024-05-24T21:46:02.869689Z",
     "start_time": "2024-05-24T21:46:02.858143Z"
    }
   },
   "cell_type": "code",
   "source": [
    "def compute_test_return_bounds(reward_fn_name_: str, reward_fn_results_dict_: Dict[str, str], split_: int, gamma: float) -> Tuple[float, float]:\n",
    "    reward_fn_ = load_reward_fn(reward_fn_name_, reward_fn_results_dict_, split_)\n",
    "    discrete_mimic_df = mimic_iii_funcs.load_standardized_mimic_data(split_, reward_fn_.raw_data_columns)\n",
    "    if reward_fn_name_ != 'peng':\n",
    "        reward_fn_.update_rewards(discrete_mimic_df)  # scale rewards\n",
    "        discrete_mimic_df = mimic_iii_funcs.drop_all_raw_data_columns(discrete_mimic_df)\n",
    "    discrete_mimic_df, discrete_min_max_scaler, _ = mimic_iii_funcs.preprocess_mimic_data(discrete_mimic_df, 'ope')\n",
    "    if reward_fn_name_ == 'peng':\n",
    "        reward_fn_.update_rewards(discrete_mimic_df)  # scale rewards\n",
    "    (\n",
    "        (raw_train_states, normed_train_states, train_discrete_actions, train_cont_actions, raw_train_next_states, normed_train_next_states, train_rewards, train_dones, train_missing_data_mask),\n",
    "        (raw_val_states, normed_val_states, val_discrete_actions, val_cont_actions, raw_val_next_states, normed_val_next_states, val_rewards, val_dones, val_missing_data_mask),\n",
    "        (raw_test_states, normed_test_states, test_discrete_actions, test_cont_actions, raw_test_next_states, normed_test_next_states, test_rewards, test_dones, test_missing_data_mask)\n",
    "    ) = mimic_iii_funcs.train_val_test_split_mimic_data(discrete_mimic_df, 'ope')\n",
    "    # rewards tensor: |D| x |T|\n",
    "    # gammas tensor: |T| x 1\n",
    "    gammas = torch.full((test_rewards.shape[1], 1), gamma, dtype=torch.float32).cumprod(dim=0)\n",
    "    # returns tensor: |D| x 1 -> |D| after squeezing\n",
    "    returns = (test_rewards @ gammas).squeeze(-1)\n",
    "    return returns.min().item(), returns.max().item()\n",
    "\n",
    "def extract_and_print_test_return_bounds(reward_fn_name: str, reward_fn_details_dict_: Dict[str, Dict[str, str]], gamma: float):\n",
    "    reward_fn_results_dict = reward_fn_details_dict_[reward_fn_name]\n",
    "    mlflow.set_tracking_uri(reward_fn_results_dict['mlflow_base_path'])\n",
    "    min_returns, max_returns = list(), list()\n",
    "    for split in range(10):\n",
    "        min_return, max_return = compute_test_return_bounds(reward_fn_name, reward_fn_results_dict, split, gamma)\n",
    "        min_returns.append(min_return)\n",
    "        max_returns.append(max_return)\n",
    "    mean_min_return, mean_max_return = np.mean(min_returns), np.mean(max_returns)\n",
    "    std_min_return, std_max_return = np.std(min_returns), np.std(max_returns)\n",
    "    print(f'{reward_fn_name} Test Return Bounds:')\n",
    "    print(f'Min Return: {mean_min_return:.4f} +/- {std_min_return:.4f}')\n",
    "    print(f'Max Return: {mean_max_return:.4f} +/- {std_max_return:.4f}')"
   ],
   "id": "e784e8e19366f466",
   "outputs": [],
   "execution_count": 12
  },
  {
   "metadata": {
    "ExecuteTime": {
     "end_time": "2024-05-24T20:58:22.065901Z",
     "start_time": "2024-05-24T20:50:45.177832Z"
    }
   },
   "cell_type": "code",
   "source": "extract_and_print_test_return_bounds('sparse', reward_fn_details_dict, 0.99)",
   "id": "46f442142d7bd551",
   "outputs": [
    {
     "data": {
      "text/plain": [
       "Extracting train dataset:   0%|          | 0/12994 [00:00<?, ?traj/s]"
      ],
      "application/vnd.jupyter.widget-view+json": {
       "version_major": 2,
       "version_minor": 0,
       "model_id": "ba6da045440749399208ff5df03e5bdb"
      }
     },
     "metadata": {},
     "output_type": "display_data"
    },
    {
     "data": {
      "text/plain": [
       "Extracting val dataset:   0%|          | 0/1857 [00:00<?, ?traj/s]"
      ],
      "application/vnd.jupyter.widget-view+json": {
       "version_major": 2,
       "version_minor": 0,
       "model_id": "1d099e79e61c47f7ae3a0bdfdb5e1629"
      }
     },
     "metadata": {},
     "output_type": "display_data"
    },
    {
     "data": {
      "text/plain": [
       "Extracting test dataset:   0%|          | 0/3713 [00:00<?, ?traj/s]"
      ],
      "application/vnd.jupyter.widget-view+json": {
       "version_major": 2,
       "version_minor": 0,
       "model_id": "cdec622f128e4708bfac080a0bb9ad6c"
      }
     },
     "metadata": {},
     "output_type": "display_data"
    },
    {
     "data": {
      "text/plain": [
       "Extracting train dataset:   0%|          | 0/12994 [00:00<?, ?traj/s]"
      ],
      "application/vnd.jupyter.widget-view+json": {
       "version_major": 2,
       "version_minor": 0,
       "model_id": "54fde7211cae4329b17a7fcb1a95cd5b"
      }
     },
     "metadata": {},
     "output_type": "display_data"
    },
    {
     "data": {
      "text/plain": [
       "Extracting val dataset:   0%|          | 0/1857 [00:00<?, ?traj/s]"
      ],
      "application/vnd.jupyter.widget-view+json": {
       "version_major": 2,
       "version_minor": 0,
       "model_id": "d9e97137aaac4f2a8ba51e87179e5ebb"
      }
     },
     "metadata": {},
     "output_type": "display_data"
    },
    {
     "data": {
      "text/plain": [
       "Extracting test dataset:   0%|          | 0/3713 [00:00<?, ?traj/s]"
      ],
      "application/vnd.jupyter.widget-view+json": {
       "version_major": 2,
       "version_minor": 0,
       "model_id": "5345f53689c14f0a8d91b590e6adf659"
      }
     },
     "metadata": {},
     "output_type": "display_data"
    },
    {
     "data": {
      "text/plain": [
       "Extracting train dataset:   0%|          | 0/12994 [00:00<?, ?traj/s]"
      ],
      "application/vnd.jupyter.widget-view+json": {
       "version_major": 2,
       "version_minor": 0,
       "model_id": "e488655a387a4a18bfb49bcf38b71db4"
      }
     },
     "metadata": {},
     "output_type": "display_data"
    },
    {
     "data": {
      "text/plain": [
       "Extracting val dataset:   0%|          | 0/1857 [00:00<?, ?traj/s]"
      ],
      "application/vnd.jupyter.widget-view+json": {
       "version_major": 2,
       "version_minor": 0,
       "model_id": "d1504edb3560450abe81dd5642078f18"
      }
     },
     "metadata": {},
     "output_type": "display_data"
    },
    {
     "data": {
      "text/plain": [
       "Extracting test dataset:   0%|          | 0/3713 [00:00<?, ?traj/s]"
      ],
      "application/vnd.jupyter.widget-view+json": {
       "version_major": 2,
       "version_minor": 0,
       "model_id": "f5dc57eab2584c5298d0a226b1b1f91f"
      }
     },
     "metadata": {},
     "output_type": "display_data"
    },
    {
     "data": {
      "text/plain": [
       "Extracting train dataset:   0%|          | 0/12994 [00:00<?, ?traj/s]"
      ],
      "application/vnd.jupyter.widget-view+json": {
       "version_major": 2,
       "version_minor": 0,
       "model_id": "1dced473f10a4591a464eb8dae416125"
      }
     },
     "metadata": {},
     "output_type": "display_data"
    },
    {
     "data": {
      "text/plain": [
       "Extracting val dataset:   0%|          | 0/1857 [00:00<?, ?traj/s]"
      ],
      "application/vnd.jupyter.widget-view+json": {
       "version_major": 2,
       "version_minor": 0,
       "model_id": "cff1f15c0f9147fb9516228c2bf50126"
      }
     },
     "metadata": {},
     "output_type": "display_data"
    },
    {
     "data": {
      "text/plain": [
       "Extracting test dataset:   0%|          | 0/3713 [00:00<?, ?traj/s]"
      ],
      "application/vnd.jupyter.widget-view+json": {
       "version_major": 2,
       "version_minor": 0,
       "model_id": "6fccf87a135142e1b1e4d738afc7de43"
      }
     },
     "metadata": {},
     "output_type": "display_data"
    },
    {
     "data": {
      "text/plain": [
       "Extracting train dataset:   0%|          | 0/12994 [00:00<?, ?traj/s]"
      ],
      "application/vnd.jupyter.widget-view+json": {
       "version_major": 2,
       "version_minor": 0,
       "model_id": "8b6b794e7ff84acbae95459a477c4169"
      }
     },
     "metadata": {},
     "output_type": "display_data"
    },
    {
     "data": {
      "text/plain": [
       "Extracting val dataset:   0%|          | 0/1857 [00:00<?, ?traj/s]"
      ],
      "application/vnd.jupyter.widget-view+json": {
       "version_major": 2,
       "version_minor": 0,
       "model_id": "bf6a0bfcc1ce46d8a88fa1ac6105f19e"
      }
     },
     "metadata": {},
     "output_type": "display_data"
    },
    {
     "data": {
      "text/plain": [
       "Extracting test dataset:   0%|          | 0/3713 [00:00<?, ?traj/s]"
      ],
      "application/vnd.jupyter.widget-view+json": {
       "version_major": 2,
       "version_minor": 0,
       "model_id": "8ecb379474624b38bde56b8c09d72ae4"
      }
     },
     "metadata": {},
     "output_type": "display_data"
    },
    {
     "data": {
      "text/plain": [
       "Extracting train dataset:   0%|          | 0/12994 [00:00<?, ?traj/s]"
      ],
      "application/vnd.jupyter.widget-view+json": {
       "version_major": 2,
       "version_minor": 0,
       "model_id": "dfba3f29293c48839635e68cbb32e45b"
      }
     },
     "metadata": {},
     "output_type": "display_data"
    },
    {
     "data": {
      "text/plain": [
       "Extracting val dataset:   0%|          | 0/1857 [00:00<?, ?traj/s]"
      ],
      "application/vnd.jupyter.widget-view+json": {
       "version_major": 2,
       "version_minor": 0,
       "model_id": "add933040f104d65bc3bc8a1d537ff9b"
      }
     },
     "metadata": {},
     "output_type": "display_data"
    },
    {
     "data": {
      "text/plain": [
       "Extracting test dataset:   0%|          | 0/3713 [00:00<?, ?traj/s]"
      ],
      "application/vnd.jupyter.widget-view+json": {
       "version_major": 2,
       "version_minor": 0,
       "model_id": "2ec618f43ad045d48cb9c667ba497f82"
      }
     },
     "metadata": {},
     "output_type": "display_data"
    },
    {
     "data": {
      "text/plain": [
       "Extracting train dataset:   0%|          | 0/12994 [00:00<?, ?traj/s]"
      ],
      "application/vnd.jupyter.widget-view+json": {
       "version_major": 2,
       "version_minor": 0,
       "model_id": "1a2d6b3db5024e8787c6b73323991c04"
      }
     },
     "metadata": {},
     "output_type": "display_data"
    },
    {
     "data": {
      "text/plain": [
       "Extracting val dataset:   0%|          | 0/1857 [00:00<?, ?traj/s]"
      ],
      "application/vnd.jupyter.widget-view+json": {
       "version_major": 2,
       "version_minor": 0,
       "model_id": "be10947fb0a945d5a7bd56e3ec965843"
      }
     },
     "metadata": {},
     "output_type": "display_data"
    },
    {
     "data": {
      "text/plain": [
       "Extracting test dataset:   0%|          | 0/3713 [00:00<?, ?traj/s]"
      ],
      "application/vnd.jupyter.widget-view+json": {
       "version_major": 2,
       "version_minor": 0,
       "model_id": "a8b967e2e7494b9da069806f6697cfe4"
      }
     },
     "metadata": {},
     "output_type": "display_data"
    },
    {
     "data": {
      "text/plain": [
       "Extracting train dataset:   0%|          | 0/12994 [00:00<?, ?traj/s]"
      ],
      "application/vnd.jupyter.widget-view+json": {
       "version_major": 2,
       "version_minor": 0,
       "model_id": "28a0d1cba98641b2b2bf7071a57e438a"
      }
     },
     "metadata": {},
     "output_type": "display_data"
    },
    {
     "data": {
      "text/plain": [
       "Extracting val dataset:   0%|          | 0/1857 [00:00<?, ?traj/s]"
      ],
      "application/vnd.jupyter.widget-view+json": {
       "version_major": 2,
       "version_minor": 0,
       "model_id": "3077a6bf405b4ec3b595366056e1f9ce"
      }
     },
     "metadata": {},
     "output_type": "display_data"
    },
    {
     "data": {
      "text/plain": [
       "Extracting test dataset:   0%|          | 0/3713 [00:00<?, ?traj/s]"
      ],
      "application/vnd.jupyter.widget-view+json": {
       "version_major": 2,
       "version_minor": 0,
       "model_id": "4cf3135c55e845508d9955251b033b91"
      }
     },
     "metadata": {},
     "output_type": "display_data"
    },
    {
     "data": {
      "text/plain": [
       "Extracting train dataset:   0%|          | 0/12994 [00:00<?, ?traj/s]"
      ],
      "application/vnd.jupyter.widget-view+json": {
       "version_major": 2,
       "version_minor": 0,
       "model_id": "904ccb24b25242e781dfd4c0cdd8f4b4"
      }
     },
     "metadata": {},
     "output_type": "display_data"
    },
    {
     "data": {
      "text/plain": [
       "Extracting val dataset:   0%|          | 0/1857 [00:00<?, ?traj/s]"
      ],
      "application/vnd.jupyter.widget-view+json": {
       "version_major": 2,
       "version_minor": 0,
       "model_id": "457cdb94522f4c95a0387274a45fa415"
      }
     },
     "metadata": {},
     "output_type": "display_data"
    },
    {
     "data": {
      "text/plain": [
       "Extracting test dataset:   0%|          | 0/3713 [00:00<?, ?traj/s]"
      ],
      "application/vnd.jupyter.widget-view+json": {
       "version_major": 2,
       "version_minor": 0,
       "model_id": "44a22bcfed4240dfb0986cdb14a182a4"
      }
     },
     "metadata": {},
     "output_type": "display_data"
    },
    {
     "data": {
      "text/plain": [
       "Extracting train dataset:   0%|          | 0/12994 [00:00<?, ?traj/s]"
      ],
      "application/vnd.jupyter.widget-view+json": {
       "version_major": 2,
       "version_minor": 0,
       "model_id": "91db7a158da04af3b063dcfd8e67e9e5"
      }
     },
     "metadata": {},
     "output_type": "display_data"
    },
    {
     "data": {
      "text/plain": [
       "Extracting val dataset:   0%|          | 0/1857 [00:00<?, ?traj/s]"
      ],
      "application/vnd.jupyter.widget-view+json": {
       "version_major": 2,
       "version_minor": 0,
       "model_id": "ae9b8bb962a84b3ba5d7fa1cfb200992"
      }
     },
     "metadata": {},
     "output_type": "display_data"
    },
    {
     "data": {
      "text/plain": [
       "Extracting test dataset:   0%|          | 0/3713 [00:00<?, ?traj/s]"
      ],
      "application/vnd.jupyter.widget-view+json": {
       "version_major": 2,
       "version_minor": 0,
       "model_id": "29c7d48499834837b40d573e8dcc050b"
      }
     },
     "metadata": {},
     "output_type": "display_data"
    },
    {
     "name": "stdout",
     "output_type": "stream",
     "text": [
      "sparse Test Return Bounds:\n",
      "Min Return: -14.8500 +/- 0.0000\n",
      "Max Return: 14.8500 +/- 0.0000\n"
     ]
    }
   ],
   "execution_count": 7
  },
  {
   "metadata": {
    "ExecuteTime": {
     "end_time": "2024-05-24T21:25:03.851652Z",
     "start_time": "2024-05-24T21:17:25.322421Z"
    }
   },
   "cell_type": "code",
   "source": "extract_and_print_test_return_bounds('wu', reward_fn_details_dict, 0.99)",
   "id": "e17f63142777c09d",
   "outputs": [
    {
     "data": {
      "text/plain": [
       "Extracting train dataset:   0%|          | 0/12994 [00:00<?, ?traj/s]"
      ],
      "application/vnd.jupyter.widget-view+json": {
       "version_major": 2,
       "version_minor": 0,
       "model_id": "452bd3a8ee904b3f9aa16b2e71855b5b"
      }
     },
     "metadata": {},
     "output_type": "display_data"
    },
    {
     "data": {
      "text/plain": [
       "Extracting val dataset:   0%|          | 0/1857 [00:00<?, ?traj/s]"
      ],
      "application/vnd.jupyter.widget-view+json": {
       "version_major": 2,
       "version_minor": 0,
       "model_id": "607a31d62fad4f17b1d089015d403a74"
      }
     },
     "metadata": {},
     "output_type": "display_data"
    },
    {
     "data": {
      "text/plain": [
       "Extracting test dataset:   0%|          | 0/3713 [00:00<?, ?traj/s]"
      ],
      "application/vnd.jupyter.widget-view+json": {
       "version_major": 2,
       "version_minor": 0,
       "model_id": "8771caff77254d53a93fbe1d1b69a338"
      }
     },
     "metadata": {},
     "output_type": "display_data"
    },
    {
     "data": {
      "text/plain": [
       "Extracting train dataset:   0%|          | 0/12994 [00:00<?, ?traj/s]"
      ],
      "application/vnd.jupyter.widget-view+json": {
       "version_major": 2,
       "version_minor": 0,
       "model_id": "b793481c4eef4b39b54fefa83528851c"
      }
     },
     "metadata": {},
     "output_type": "display_data"
    },
    {
     "data": {
      "text/plain": [
       "Extracting val dataset:   0%|          | 0/1857 [00:00<?, ?traj/s]"
      ],
      "application/vnd.jupyter.widget-view+json": {
       "version_major": 2,
       "version_minor": 0,
       "model_id": "7cc769b39a84408da570461acb60d476"
      }
     },
     "metadata": {},
     "output_type": "display_data"
    },
    {
     "data": {
      "text/plain": [
       "Extracting test dataset:   0%|          | 0/3713 [00:00<?, ?traj/s]"
      ],
      "application/vnd.jupyter.widget-view+json": {
       "version_major": 2,
       "version_minor": 0,
       "model_id": "35234f0188d840ac9bc3c67744077e61"
      }
     },
     "metadata": {},
     "output_type": "display_data"
    },
    {
     "data": {
      "text/plain": [
       "Extracting train dataset:   0%|          | 0/12994 [00:00<?, ?traj/s]"
      ],
      "application/vnd.jupyter.widget-view+json": {
       "version_major": 2,
       "version_minor": 0,
       "model_id": "3a4875df8b774e04a891686ef86129b0"
      }
     },
     "metadata": {},
     "output_type": "display_data"
    },
    {
     "data": {
      "text/plain": [
       "Extracting val dataset:   0%|          | 0/1857 [00:00<?, ?traj/s]"
      ],
      "application/vnd.jupyter.widget-view+json": {
       "version_major": 2,
       "version_minor": 0,
       "model_id": "6177d0c16b514b6885f5ff4927e2fa85"
      }
     },
     "metadata": {},
     "output_type": "display_data"
    },
    {
     "data": {
      "text/plain": [
       "Extracting test dataset:   0%|          | 0/3713 [00:00<?, ?traj/s]"
      ],
      "application/vnd.jupyter.widget-view+json": {
       "version_major": 2,
       "version_minor": 0,
       "model_id": "070f0771c0e54b0faf00ee0f69fa9be2"
      }
     },
     "metadata": {},
     "output_type": "display_data"
    },
    {
     "data": {
      "text/plain": [
       "Extracting train dataset:   0%|          | 0/12994 [00:00<?, ?traj/s]"
      ],
      "application/vnd.jupyter.widget-view+json": {
       "version_major": 2,
       "version_minor": 0,
       "model_id": "5bcc4c76f00e48029d70f2a70354df55"
      }
     },
     "metadata": {},
     "output_type": "display_data"
    },
    {
     "data": {
      "text/plain": [
       "Extracting val dataset:   0%|          | 0/1857 [00:00<?, ?traj/s]"
      ],
      "application/vnd.jupyter.widget-view+json": {
       "version_major": 2,
       "version_minor": 0,
       "model_id": "ad9d1c62ea1d4e46860d2b9180dbd592"
      }
     },
     "metadata": {},
     "output_type": "display_data"
    },
    {
     "data": {
      "text/plain": [
       "Extracting test dataset:   0%|          | 0/3713 [00:00<?, ?traj/s]"
      ],
      "application/vnd.jupyter.widget-view+json": {
       "version_major": 2,
       "version_minor": 0,
       "model_id": "9b06e3dcfea14287b0482900f35a7c72"
      }
     },
     "metadata": {},
     "output_type": "display_data"
    },
    {
     "data": {
      "text/plain": [
       "Extracting train dataset:   0%|          | 0/12994 [00:00<?, ?traj/s]"
      ],
      "application/vnd.jupyter.widget-view+json": {
       "version_major": 2,
       "version_minor": 0,
       "model_id": "61d11bb72055423084072837538c13f1"
      }
     },
     "metadata": {},
     "output_type": "display_data"
    },
    {
     "data": {
      "text/plain": [
       "Extracting val dataset:   0%|          | 0/1857 [00:00<?, ?traj/s]"
      ],
      "application/vnd.jupyter.widget-view+json": {
       "version_major": 2,
       "version_minor": 0,
       "model_id": "9b4fbe88a1f94606aa4fc0409fb2ef76"
      }
     },
     "metadata": {},
     "output_type": "display_data"
    },
    {
     "data": {
      "text/plain": [
       "Extracting test dataset:   0%|          | 0/3713 [00:00<?, ?traj/s]"
      ],
      "application/vnd.jupyter.widget-view+json": {
       "version_major": 2,
       "version_minor": 0,
       "model_id": "acd029a4d8bf429abf59a9e4c2d00ef6"
      }
     },
     "metadata": {},
     "output_type": "display_data"
    },
    {
     "data": {
      "text/plain": [
       "Extracting train dataset:   0%|          | 0/12994 [00:00<?, ?traj/s]"
      ],
      "application/vnd.jupyter.widget-view+json": {
       "version_major": 2,
       "version_minor": 0,
       "model_id": "7997c298919f4ef389bb65fde974ae2f"
      }
     },
     "metadata": {},
     "output_type": "display_data"
    },
    {
     "data": {
      "text/plain": [
       "Extracting val dataset:   0%|          | 0/1857 [00:00<?, ?traj/s]"
      ],
      "application/vnd.jupyter.widget-view+json": {
       "version_major": 2,
       "version_minor": 0,
       "model_id": "69e638f2248540b18c9e1644286f44c0"
      }
     },
     "metadata": {},
     "output_type": "display_data"
    },
    {
     "data": {
      "text/plain": [
       "Extracting test dataset:   0%|          | 0/3713 [00:00<?, ?traj/s]"
      ],
      "application/vnd.jupyter.widget-view+json": {
       "version_major": 2,
       "version_minor": 0,
       "model_id": "9d0488f007fd44399f6662ffc3c26dd9"
      }
     },
     "metadata": {},
     "output_type": "display_data"
    },
    {
     "data": {
      "text/plain": [
       "Extracting train dataset:   0%|          | 0/12994 [00:00<?, ?traj/s]"
      ],
      "application/vnd.jupyter.widget-view+json": {
       "version_major": 2,
       "version_minor": 0,
       "model_id": "5e5dcdcdd1d34d30b4efb94c8bad8f39"
      }
     },
     "metadata": {},
     "output_type": "display_data"
    },
    {
     "data": {
      "text/plain": [
       "Extracting val dataset:   0%|          | 0/1857 [00:00<?, ?traj/s]"
      ],
      "application/vnd.jupyter.widget-view+json": {
       "version_major": 2,
       "version_minor": 0,
       "model_id": "8288609b9fc34eeeb17aaeac4727e2a4"
      }
     },
     "metadata": {},
     "output_type": "display_data"
    },
    {
     "data": {
      "text/plain": [
       "Extracting test dataset:   0%|          | 0/3713 [00:00<?, ?traj/s]"
      ],
      "application/vnd.jupyter.widget-view+json": {
       "version_major": 2,
       "version_minor": 0,
       "model_id": "a75b4f0fc476496a8db70582eb122170"
      }
     },
     "metadata": {},
     "output_type": "display_data"
    },
    {
     "data": {
      "text/plain": [
       "Extracting train dataset:   0%|          | 0/12994 [00:00<?, ?traj/s]"
      ],
      "application/vnd.jupyter.widget-view+json": {
       "version_major": 2,
       "version_minor": 0,
       "model_id": "18b6e0b5534e4f31a5a9120b88b28ec6"
      }
     },
     "metadata": {},
     "output_type": "display_data"
    },
    {
     "data": {
      "text/plain": [
       "Extracting val dataset:   0%|          | 0/1857 [00:00<?, ?traj/s]"
      ],
      "application/vnd.jupyter.widget-view+json": {
       "version_major": 2,
       "version_minor": 0,
       "model_id": "f42af4aa881f4a87a050e137d7009f60"
      }
     },
     "metadata": {},
     "output_type": "display_data"
    },
    {
     "data": {
      "text/plain": [
       "Extracting test dataset:   0%|          | 0/3713 [00:00<?, ?traj/s]"
      ],
      "application/vnd.jupyter.widget-view+json": {
       "version_major": 2,
       "version_minor": 0,
       "model_id": "226db99f8db244d6a93c59f3c5bfe05d"
      }
     },
     "metadata": {},
     "output_type": "display_data"
    },
    {
     "data": {
      "text/plain": [
       "Extracting train dataset:   0%|          | 0/12994 [00:00<?, ?traj/s]"
      ],
      "application/vnd.jupyter.widget-view+json": {
       "version_major": 2,
       "version_minor": 0,
       "model_id": "a3b0300b19b74ad78254754392f81333"
      }
     },
     "metadata": {},
     "output_type": "display_data"
    },
    {
     "data": {
      "text/plain": [
       "Extracting val dataset:   0%|          | 0/1857 [00:00<?, ?traj/s]"
      ],
      "application/vnd.jupyter.widget-view+json": {
       "version_major": 2,
       "version_minor": 0,
       "model_id": "0c4e2c940152405589e225b311276515"
      }
     },
     "metadata": {},
     "output_type": "display_data"
    },
    {
     "data": {
      "text/plain": [
       "Extracting test dataset:   0%|          | 0/3713 [00:00<?, ?traj/s]"
      ],
      "application/vnd.jupyter.widget-view+json": {
       "version_major": 2,
       "version_minor": 0,
       "model_id": "4a0e59cd40884dbbb2761db4e2f998fc"
      }
     },
     "metadata": {},
     "output_type": "display_data"
    },
    {
     "data": {
      "text/plain": [
       "Extracting train dataset:   0%|          | 0/12994 [00:00<?, ?traj/s]"
      ],
      "application/vnd.jupyter.widget-view+json": {
       "version_major": 2,
       "version_minor": 0,
       "model_id": "04c1c234132a480fa27ce21b4216e3f3"
      }
     },
     "metadata": {},
     "output_type": "display_data"
    },
    {
     "data": {
      "text/plain": [
       "Extracting val dataset:   0%|          | 0/1857 [00:00<?, ?traj/s]"
      ],
      "application/vnd.jupyter.widget-view+json": {
       "version_major": 2,
       "version_minor": 0,
       "model_id": "00e5ab4b6d5c4f598fce6387e7dbf25b"
      }
     },
     "metadata": {},
     "output_type": "display_data"
    },
    {
     "data": {
      "text/plain": [
       "Extracting test dataset:   0%|          | 0/3713 [00:00<?, ?traj/s]"
      ],
      "application/vnd.jupyter.widget-view+json": {
       "version_major": 2,
       "version_minor": 0,
       "model_id": "ac0a96f0ee5f40c6ae9bdf3bf3f56767"
      }
     },
     "metadata": {},
     "output_type": "display_data"
    },
    {
     "name": "stdout",
     "output_type": "stream",
     "text": [
      "wu Test Return Bounds:\n",
      "Min Return: -29.4225 +/- 0.9188\n",
      "Max Return: 30.0537 +/- 0.6966\n"
     ]
    }
   ],
   "execution_count": 8
  },
  {
   "metadata": {
    "ExecuteTime": {
     "end_time": "2024-05-24T21:32:35.124326Z",
     "start_time": "2024-05-24T21:25:03.854651Z"
    }
   },
   "cell_type": "code",
   "source": "extract_and_print_test_return_bounds('yong', reward_fn_details_dict, 0.99)",
   "id": "19dcc14fb68e2427",
   "outputs": [
    {
     "data": {
      "text/plain": [
       "Extracting train dataset:   0%|          | 0/12994 [00:00<?, ?traj/s]"
      ],
      "application/vnd.jupyter.widget-view+json": {
       "version_major": 2,
       "version_minor": 0,
       "model_id": "9461f007fb9f490ea00952c8f29b945c"
      }
     },
     "metadata": {},
     "output_type": "display_data"
    },
    {
     "data": {
      "text/plain": [
       "Extracting val dataset:   0%|          | 0/1857 [00:00<?, ?traj/s]"
      ],
      "application/vnd.jupyter.widget-view+json": {
       "version_major": 2,
       "version_minor": 0,
       "model_id": "f2c1feb787444e1b81518dcaead5cae7"
      }
     },
     "metadata": {},
     "output_type": "display_data"
    },
    {
     "data": {
      "text/plain": [
       "Extracting test dataset:   0%|          | 0/3713 [00:00<?, ?traj/s]"
      ],
      "application/vnd.jupyter.widget-view+json": {
       "version_major": 2,
       "version_minor": 0,
       "model_id": "baa2cee78ff949c48a0290d5598a4385"
      }
     },
     "metadata": {},
     "output_type": "display_data"
    },
    {
     "data": {
      "text/plain": [
       "Extracting train dataset:   0%|          | 0/12994 [00:00<?, ?traj/s]"
      ],
      "application/vnd.jupyter.widget-view+json": {
       "version_major": 2,
       "version_minor": 0,
       "model_id": "91ed00834f7041da9b9ce3acffa8d640"
      }
     },
     "metadata": {},
     "output_type": "display_data"
    },
    {
     "data": {
      "text/plain": [
       "Extracting val dataset:   0%|          | 0/1857 [00:00<?, ?traj/s]"
      ],
      "application/vnd.jupyter.widget-view+json": {
       "version_major": 2,
       "version_minor": 0,
       "model_id": "39a6158f643f495789472f47837c9379"
      }
     },
     "metadata": {},
     "output_type": "display_data"
    },
    {
     "data": {
      "text/plain": [
       "Extracting test dataset:   0%|          | 0/3713 [00:00<?, ?traj/s]"
      ],
      "application/vnd.jupyter.widget-view+json": {
       "version_major": 2,
       "version_minor": 0,
       "model_id": "9fc02a047d1b419a83c9698106680c2a"
      }
     },
     "metadata": {},
     "output_type": "display_data"
    },
    {
     "data": {
      "text/plain": [
       "Extracting train dataset:   0%|          | 0/12994 [00:00<?, ?traj/s]"
      ],
      "application/vnd.jupyter.widget-view+json": {
       "version_major": 2,
       "version_minor": 0,
       "model_id": "43e93823612a4241a5fd0b4ef5f0023a"
      }
     },
     "metadata": {},
     "output_type": "display_data"
    },
    {
     "data": {
      "text/plain": [
       "Extracting val dataset:   0%|          | 0/1857 [00:00<?, ?traj/s]"
      ],
      "application/vnd.jupyter.widget-view+json": {
       "version_major": 2,
       "version_minor": 0,
       "model_id": "09a01c25627f41bd9b47a650ae3d2ea4"
      }
     },
     "metadata": {},
     "output_type": "display_data"
    },
    {
     "data": {
      "text/plain": [
       "Extracting test dataset:   0%|          | 0/3713 [00:00<?, ?traj/s]"
      ],
      "application/vnd.jupyter.widget-view+json": {
       "version_major": 2,
       "version_minor": 0,
       "model_id": "55eb5bcd01e248869548e90a151dbacb"
      }
     },
     "metadata": {},
     "output_type": "display_data"
    },
    {
     "data": {
      "text/plain": [
       "Extracting train dataset:   0%|          | 0/12994 [00:00<?, ?traj/s]"
      ],
      "application/vnd.jupyter.widget-view+json": {
       "version_major": 2,
       "version_minor": 0,
       "model_id": "92131062483a4c7f9864ab7ce66a5231"
      }
     },
     "metadata": {},
     "output_type": "display_data"
    },
    {
     "data": {
      "text/plain": [
       "Extracting val dataset:   0%|          | 0/1857 [00:00<?, ?traj/s]"
      ],
      "application/vnd.jupyter.widget-view+json": {
       "version_major": 2,
       "version_minor": 0,
       "model_id": "607512d6145e43a9972517674326670d"
      }
     },
     "metadata": {},
     "output_type": "display_data"
    },
    {
     "data": {
      "text/plain": [
       "Extracting test dataset:   0%|          | 0/3713 [00:00<?, ?traj/s]"
      ],
      "application/vnd.jupyter.widget-view+json": {
       "version_major": 2,
       "version_minor": 0,
       "model_id": "3cb6be3780724d79a0f8c38bb4431054"
      }
     },
     "metadata": {},
     "output_type": "display_data"
    },
    {
     "data": {
      "text/plain": [
       "Extracting train dataset:   0%|          | 0/12994 [00:00<?, ?traj/s]"
      ],
      "application/vnd.jupyter.widget-view+json": {
       "version_major": 2,
       "version_minor": 0,
       "model_id": "ef738244eca34712b75212fb2eb99562"
      }
     },
     "metadata": {},
     "output_type": "display_data"
    },
    {
     "data": {
      "text/plain": [
       "Extracting val dataset:   0%|          | 0/1857 [00:00<?, ?traj/s]"
      ],
      "application/vnd.jupyter.widget-view+json": {
       "version_major": 2,
       "version_minor": 0,
       "model_id": "b2982c784d3f4fa09017de406cf828e9"
      }
     },
     "metadata": {},
     "output_type": "display_data"
    },
    {
     "data": {
      "text/plain": [
       "Extracting test dataset:   0%|          | 0/3713 [00:00<?, ?traj/s]"
      ],
      "application/vnd.jupyter.widget-view+json": {
       "version_major": 2,
       "version_minor": 0,
       "model_id": "f50d3f40f8b14623805562f750b7e023"
      }
     },
     "metadata": {},
     "output_type": "display_data"
    },
    {
     "data": {
      "text/plain": [
       "Extracting train dataset:   0%|          | 0/12994 [00:00<?, ?traj/s]"
      ],
      "application/vnd.jupyter.widget-view+json": {
       "version_major": 2,
       "version_minor": 0,
       "model_id": "31c733ef135f45699ba888fd80236f0f"
      }
     },
     "metadata": {},
     "output_type": "display_data"
    },
    {
     "data": {
      "text/plain": [
       "Extracting val dataset:   0%|          | 0/1857 [00:00<?, ?traj/s]"
      ],
      "application/vnd.jupyter.widget-view+json": {
       "version_major": 2,
       "version_minor": 0,
       "model_id": "f5ffbf628faa41e09ebd87a56c0483a5"
      }
     },
     "metadata": {},
     "output_type": "display_data"
    },
    {
     "data": {
      "text/plain": [
       "Extracting test dataset:   0%|          | 0/3713 [00:00<?, ?traj/s]"
      ],
      "application/vnd.jupyter.widget-view+json": {
       "version_major": 2,
       "version_minor": 0,
       "model_id": "3f170b0dcf5843828209ec521ddf3948"
      }
     },
     "metadata": {},
     "output_type": "display_data"
    },
    {
     "data": {
      "text/plain": [
       "Extracting train dataset:   0%|          | 0/12994 [00:00<?, ?traj/s]"
      ],
      "application/vnd.jupyter.widget-view+json": {
       "version_major": 2,
       "version_minor": 0,
       "model_id": "f13c2a04f0ea42b5a567e123e752be7b"
      }
     },
     "metadata": {},
     "output_type": "display_data"
    },
    {
     "data": {
      "text/plain": [
       "Extracting val dataset:   0%|          | 0/1857 [00:00<?, ?traj/s]"
      ],
      "application/vnd.jupyter.widget-view+json": {
       "version_major": 2,
       "version_minor": 0,
       "model_id": "1189a90b696d44c8a58c35ff70428797"
      }
     },
     "metadata": {},
     "output_type": "display_data"
    },
    {
     "data": {
      "text/plain": [
       "Extracting test dataset:   0%|          | 0/3713 [00:00<?, ?traj/s]"
      ],
      "application/vnd.jupyter.widget-view+json": {
       "version_major": 2,
       "version_minor": 0,
       "model_id": "66828e02e4c745eb94e6bb5850e38b2d"
      }
     },
     "metadata": {},
     "output_type": "display_data"
    },
    {
     "data": {
      "text/plain": [
       "Extracting train dataset:   0%|          | 0/12994 [00:00<?, ?traj/s]"
      ],
      "application/vnd.jupyter.widget-view+json": {
       "version_major": 2,
       "version_minor": 0,
       "model_id": "d6643ffcf444461e8358cba8e5ec4389"
      }
     },
     "metadata": {},
     "output_type": "display_data"
    },
    {
     "data": {
      "text/plain": [
       "Extracting val dataset:   0%|          | 0/1857 [00:00<?, ?traj/s]"
      ],
      "application/vnd.jupyter.widget-view+json": {
       "version_major": 2,
       "version_minor": 0,
       "model_id": "8c1de5634f2a4a4a90fe37baa540fc5d"
      }
     },
     "metadata": {},
     "output_type": "display_data"
    },
    {
     "data": {
      "text/plain": [
       "Extracting test dataset:   0%|          | 0/3713 [00:00<?, ?traj/s]"
      ],
      "application/vnd.jupyter.widget-view+json": {
       "version_major": 2,
       "version_minor": 0,
       "model_id": "801209a046584627b728ac72a31433bd"
      }
     },
     "metadata": {},
     "output_type": "display_data"
    },
    {
     "data": {
      "text/plain": [
       "Extracting train dataset:   0%|          | 0/12994 [00:00<?, ?traj/s]"
      ],
      "application/vnd.jupyter.widget-view+json": {
       "version_major": 2,
       "version_minor": 0,
       "model_id": "3246115a31f04739a29482c448207b43"
      }
     },
     "metadata": {},
     "output_type": "display_data"
    },
    {
     "data": {
      "text/plain": [
       "Extracting val dataset:   0%|          | 0/1857 [00:00<?, ?traj/s]"
      ],
      "application/vnd.jupyter.widget-view+json": {
       "version_major": 2,
       "version_minor": 0,
       "model_id": "af005f96f6ae4a2b869dd05a6ccb94e5"
      }
     },
     "metadata": {},
     "output_type": "display_data"
    },
    {
     "data": {
      "text/plain": [
       "Extracting test dataset:   0%|          | 0/3713 [00:00<?, ?traj/s]"
      ],
      "application/vnd.jupyter.widget-view+json": {
       "version_major": 2,
       "version_minor": 0,
       "model_id": "b039e7e734c94b1f9fafda6929e46055"
      }
     },
     "metadata": {},
     "output_type": "display_data"
    },
    {
     "data": {
      "text/plain": [
       "Extracting train dataset:   0%|          | 0/12994 [00:00<?, ?traj/s]"
      ],
      "application/vnd.jupyter.widget-view+json": {
       "version_major": 2,
       "version_minor": 0,
       "model_id": "aa96c11ea017457cbe073785953f2eea"
      }
     },
     "metadata": {},
     "output_type": "display_data"
    },
    {
     "data": {
      "text/plain": [
       "Extracting val dataset:   0%|          | 0/1857 [00:00<?, ?traj/s]"
      ],
      "application/vnd.jupyter.widget-view+json": {
       "version_major": 2,
       "version_minor": 0,
       "model_id": "a9888f4a8f264560a4b6de47961abc46"
      }
     },
     "metadata": {},
     "output_type": "display_data"
    },
    {
     "data": {
      "text/plain": [
       "Extracting test dataset:   0%|          | 0/3713 [00:00<?, ?traj/s]"
      ],
      "application/vnd.jupyter.widget-view+json": {
       "version_major": 2,
       "version_minor": 0,
       "model_id": "b09c78b2d9604631873f6b37049deea2"
      }
     },
     "metadata": {},
     "output_type": "display_data"
    },
    {
     "name": "stdout",
     "output_type": "stream",
     "text": [
      "yong Test Return Bounds:\n",
      "Min Return: -6.3638 +/- 0.2384\n",
      "Max Return: 5.4308 +/- 0.0951\n"
     ]
    }
   ],
   "execution_count": 9
  },
  {
   "metadata": {
    "ExecuteTime": {
     "end_time": "2024-05-24T21:40:13.062033Z",
     "start_time": "2024-05-24T21:32:35.127862Z"
    }
   },
   "cell_type": "code",
   "source": "extract_and_print_test_return_bounds('raghu', reward_fn_details_dict, 0.99)",
   "id": "a723b51ea9f944bc",
   "outputs": [
    {
     "data": {
      "text/plain": [
       "Extracting train dataset:   0%|          | 0/12994 [00:00<?, ?traj/s]"
      ],
      "application/vnd.jupyter.widget-view+json": {
       "version_major": 2,
       "version_minor": 0,
       "model_id": "1b2ec2c6699a4a70b94572fff6347ce2"
      }
     },
     "metadata": {},
     "output_type": "display_data"
    },
    {
     "data": {
      "text/plain": [
       "Extracting val dataset:   0%|          | 0/1857 [00:00<?, ?traj/s]"
      ],
      "application/vnd.jupyter.widget-view+json": {
       "version_major": 2,
       "version_minor": 0,
       "model_id": "2e245af290744773884ebb7f9294cf73"
      }
     },
     "metadata": {},
     "output_type": "display_data"
    },
    {
     "data": {
      "text/plain": [
       "Extracting test dataset:   0%|          | 0/3713 [00:00<?, ?traj/s]"
      ],
      "application/vnd.jupyter.widget-view+json": {
       "version_major": 2,
       "version_minor": 0,
       "model_id": "4b60603ad0ae4adf9e75ef7d716a82cf"
      }
     },
     "metadata": {},
     "output_type": "display_data"
    },
    {
     "data": {
      "text/plain": [
       "Extracting train dataset:   0%|          | 0/12994 [00:00<?, ?traj/s]"
      ],
      "application/vnd.jupyter.widget-view+json": {
       "version_major": 2,
       "version_minor": 0,
       "model_id": "51d7da6727444a7f832275ef9810ec9a"
      }
     },
     "metadata": {},
     "output_type": "display_data"
    },
    {
     "data": {
      "text/plain": [
       "Extracting val dataset:   0%|          | 0/1857 [00:00<?, ?traj/s]"
      ],
      "application/vnd.jupyter.widget-view+json": {
       "version_major": 2,
       "version_minor": 0,
       "model_id": "e7420076119a46f1ba379789dc4698e8"
      }
     },
     "metadata": {},
     "output_type": "display_data"
    },
    {
     "data": {
      "text/plain": [
       "Extracting test dataset:   0%|          | 0/3713 [00:00<?, ?traj/s]"
      ],
      "application/vnd.jupyter.widget-view+json": {
       "version_major": 2,
       "version_minor": 0,
       "model_id": "d986997e6930408daa2e2d2a5f13815e"
      }
     },
     "metadata": {},
     "output_type": "display_data"
    },
    {
     "data": {
      "text/plain": [
       "Extracting train dataset:   0%|          | 0/12994 [00:00<?, ?traj/s]"
      ],
      "application/vnd.jupyter.widget-view+json": {
       "version_major": 2,
       "version_minor": 0,
       "model_id": "c6a65fc183a4432196cdc609c037e78f"
      }
     },
     "metadata": {},
     "output_type": "display_data"
    },
    {
     "data": {
      "text/plain": [
       "Extracting val dataset:   0%|          | 0/1857 [00:00<?, ?traj/s]"
      ],
      "application/vnd.jupyter.widget-view+json": {
       "version_major": 2,
       "version_minor": 0,
       "model_id": "c7e47e3e074e4d56b73304474520ac5f"
      }
     },
     "metadata": {},
     "output_type": "display_data"
    },
    {
     "data": {
      "text/plain": [
       "Extracting test dataset:   0%|          | 0/3713 [00:00<?, ?traj/s]"
      ],
      "application/vnd.jupyter.widget-view+json": {
       "version_major": 2,
       "version_minor": 0,
       "model_id": "dff307d690784efdb053036d59caf5b2"
      }
     },
     "metadata": {},
     "output_type": "display_data"
    },
    {
     "data": {
      "text/plain": [
       "Extracting train dataset:   0%|          | 0/12994 [00:00<?, ?traj/s]"
      ],
      "application/vnd.jupyter.widget-view+json": {
       "version_major": 2,
       "version_minor": 0,
       "model_id": "52f8733e46e94c82af03e1cafce7b02f"
      }
     },
     "metadata": {},
     "output_type": "display_data"
    },
    {
     "data": {
      "text/plain": [
       "Extracting val dataset:   0%|          | 0/1857 [00:00<?, ?traj/s]"
      ],
      "application/vnd.jupyter.widget-view+json": {
       "version_major": 2,
       "version_minor": 0,
       "model_id": "440c0f7f58e046b2a36dd0cb80b416c0"
      }
     },
     "metadata": {},
     "output_type": "display_data"
    },
    {
     "data": {
      "text/plain": [
       "Extracting test dataset:   0%|          | 0/3713 [00:00<?, ?traj/s]"
      ],
      "application/vnd.jupyter.widget-view+json": {
       "version_major": 2,
       "version_minor": 0,
       "model_id": "0a71eecabf2f4507ad446e2391d270c1"
      }
     },
     "metadata": {},
     "output_type": "display_data"
    },
    {
     "data": {
      "text/plain": [
       "Extracting train dataset:   0%|          | 0/12994 [00:00<?, ?traj/s]"
      ],
      "application/vnd.jupyter.widget-view+json": {
       "version_major": 2,
       "version_minor": 0,
       "model_id": "26ace1de75c841259111d789cb55c2c8"
      }
     },
     "metadata": {},
     "output_type": "display_data"
    },
    {
     "data": {
      "text/plain": [
       "Extracting val dataset:   0%|          | 0/1857 [00:00<?, ?traj/s]"
      ],
      "application/vnd.jupyter.widget-view+json": {
       "version_major": 2,
       "version_minor": 0,
       "model_id": "ca71ec7f6ccb4ee98723ebda8add5486"
      }
     },
     "metadata": {},
     "output_type": "display_data"
    },
    {
     "data": {
      "text/plain": [
       "Extracting test dataset:   0%|          | 0/3713 [00:00<?, ?traj/s]"
      ],
      "application/vnd.jupyter.widget-view+json": {
       "version_major": 2,
       "version_minor": 0,
       "model_id": "a137941807f64f9b8051f67bcac99c9a"
      }
     },
     "metadata": {},
     "output_type": "display_data"
    },
    {
     "data": {
      "text/plain": [
       "Extracting train dataset:   0%|          | 0/12994 [00:00<?, ?traj/s]"
      ],
      "application/vnd.jupyter.widget-view+json": {
       "version_major": 2,
       "version_minor": 0,
       "model_id": "62e379d1b8d14bdc934bea4ef49113fb"
      }
     },
     "metadata": {},
     "output_type": "display_data"
    },
    {
     "data": {
      "text/plain": [
       "Extracting val dataset:   0%|          | 0/1857 [00:00<?, ?traj/s]"
      ],
      "application/vnd.jupyter.widget-view+json": {
       "version_major": 2,
       "version_minor": 0,
       "model_id": "abb3d923ae194fcea39f651dc628e7ca"
      }
     },
     "metadata": {},
     "output_type": "display_data"
    },
    {
     "data": {
      "text/plain": [
       "Extracting test dataset:   0%|          | 0/3713 [00:00<?, ?traj/s]"
      ],
      "application/vnd.jupyter.widget-view+json": {
       "version_major": 2,
       "version_minor": 0,
       "model_id": "334e72135978422b8e5ae52aa416b6e0"
      }
     },
     "metadata": {},
     "output_type": "display_data"
    },
    {
     "data": {
      "text/plain": [
       "Extracting train dataset:   0%|          | 0/12994 [00:00<?, ?traj/s]"
      ],
      "application/vnd.jupyter.widget-view+json": {
       "version_major": 2,
       "version_minor": 0,
       "model_id": "81447b54af9d4093bbd81d1a3fa57dda"
      }
     },
     "metadata": {},
     "output_type": "display_data"
    },
    {
     "data": {
      "text/plain": [
       "Extracting val dataset:   0%|          | 0/1857 [00:00<?, ?traj/s]"
      ],
      "application/vnd.jupyter.widget-view+json": {
       "version_major": 2,
       "version_minor": 0,
       "model_id": "95630bc77ccd429c92801cf5b39437cc"
      }
     },
     "metadata": {},
     "output_type": "display_data"
    },
    {
     "data": {
      "text/plain": [
       "Extracting test dataset:   0%|          | 0/3713 [00:00<?, ?traj/s]"
      ],
      "application/vnd.jupyter.widget-view+json": {
       "version_major": 2,
       "version_minor": 0,
       "model_id": "0f0daf837fda43ccba6243c9ee6ea7ed"
      }
     },
     "metadata": {},
     "output_type": "display_data"
    },
    {
     "data": {
      "text/plain": [
       "Extracting train dataset:   0%|          | 0/12994 [00:00<?, ?traj/s]"
      ],
      "application/vnd.jupyter.widget-view+json": {
       "version_major": 2,
       "version_minor": 0,
       "model_id": "9862d8b7ca594d90ba58528d1df4b37e"
      }
     },
     "metadata": {},
     "output_type": "display_data"
    },
    {
     "data": {
      "text/plain": [
       "Extracting val dataset:   0%|          | 0/1857 [00:00<?, ?traj/s]"
      ],
      "application/vnd.jupyter.widget-view+json": {
       "version_major": 2,
       "version_minor": 0,
       "model_id": "04148ec625f84d00889206dfd7085e57"
      }
     },
     "metadata": {},
     "output_type": "display_data"
    },
    {
     "data": {
      "text/plain": [
       "Extracting test dataset:   0%|          | 0/3713 [00:00<?, ?traj/s]"
      ],
      "application/vnd.jupyter.widget-view+json": {
       "version_major": 2,
       "version_minor": 0,
       "model_id": "39014e09cecb48cd933cd836fa4e202c"
      }
     },
     "metadata": {},
     "output_type": "display_data"
    },
    {
     "data": {
      "text/plain": [
       "Extracting train dataset:   0%|          | 0/12994 [00:00<?, ?traj/s]"
      ],
      "application/vnd.jupyter.widget-view+json": {
       "version_major": 2,
       "version_minor": 0,
       "model_id": "f6cdb4dd77d1427c9a7a4bf7c69cbf9f"
      }
     },
     "metadata": {},
     "output_type": "display_data"
    },
    {
     "data": {
      "text/plain": [
       "Extracting val dataset:   0%|          | 0/1857 [00:00<?, ?traj/s]"
      ],
      "application/vnd.jupyter.widget-view+json": {
       "version_major": 2,
       "version_minor": 0,
       "model_id": "f3c831aa5d6f486f88a9c603d4555fad"
      }
     },
     "metadata": {},
     "output_type": "display_data"
    },
    {
     "data": {
      "text/plain": [
       "Extracting test dataset:   0%|          | 0/3713 [00:00<?, ?traj/s]"
      ],
      "application/vnd.jupyter.widget-view+json": {
       "version_major": 2,
       "version_minor": 0,
       "model_id": "10bc357d697e4cf69d88ff36d3d90f94"
      }
     },
     "metadata": {},
     "output_type": "display_data"
    },
    {
     "data": {
      "text/plain": [
       "Extracting train dataset:   0%|          | 0/12994 [00:00<?, ?traj/s]"
      ],
      "application/vnd.jupyter.widget-view+json": {
       "version_major": 2,
       "version_minor": 0,
       "model_id": "1aa55969491c44d2a4a09ad299fdb70d"
      }
     },
     "metadata": {},
     "output_type": "display_data"
    },
    {
     "data": {
      "text/plain": [
       "Extracting val dataset:   0%|          | 0/1857 [00:00<?, ?traj/s]"
      ],
      "application/vnd.jupyter.widget-view+json": {
       "version_major": 2,
       "version_minor": 0,
       "model_id": "552eff135fb14ffab366224e1b93703c"
      }
     },
     "metadata": {},
     "output_type": "display_data"
    },
    {
     "data": {
      "text/plain": [
       "Extracting test dataset:   0%|          | 0/3713 [00:00<?, ?traj/s]"
      ],
      "application/vnd.jupyter.widget-view+json": {
       "version_major": 2,
       "version_minor": 0,
       "model_id": "0e61110a2bf94e459f641d1e014ec5a9"
      }
     },
     "metadata": {},
     "output_type": "display_data"
    },
    {
     "name": "stdout",
     "output_type": "stream",
     "text": [
      "raghu Test Return Bounds:\n",
      "Min Return: -22.8853 +/- 2.7774\n",
      "Max Return: 22.7248 +/- 1.2208\n"
     ]
    }
   ],
   "execution_count": 10
  },
  {
   "metadata": {
    "ExecuteTime": {
     "end_time": "2024-05-24T21:54:02.281936Z",
     "start_time": "2024-05-24T21:46:05.251548Z"
    }
   },
   "cell_type": "code",
   "source": "extract_and_print_test_return_bounds('peng', reward_fn_details_dict, 0.99)",
   "id": "9bd06f087651dc29",
   "outputs": [
    {
     "name": "stderr",
     "output_type": "stream",
     "text": [
      "2024/05/24 14:46:05 WARNING mlflow.pytorch: Stored model version '2.0.1+cu117' does not match installed PyTorch version '2.0.1'\n"
     ]
    },
    {
     "data": {
      "text/plain": [
       "Extracting train dataset:   0%|          | 0/12994 [00:00<?, ?traj/s]"
      ],
      "application/vnd.jupyter.widget-view+json": {
       "version_major": 2,
       "version_minor": 0,
       "model_id": "a5f9abdd46ae41288d5d2f4ac152dd9f"
      }
     },
     "metadata": {},
     "output_type": "display_data"
    },
    {
     "data": {
      "text/plain": [
       "Extracting val dataset:   0%|          | 0/1857 [00:00<?, ?traj/s]"
      ],
      "application/vnd.jupyter.widget-view+json": {
       "version_major": 2,
       "version_minor": 0,
       "model_id": "749004ddddb94f058b49b13a8f22a8a0"
      }
     },
     "metadata": {},
     "output_type": "display_data"
    },
    {
     "data": {
      "text/plain": [
       "Extracting test dataset:   0%|          | 0/3713 [00:00<?, ?traj/s]"
      ],
      "application/vnd.jupyter.widget-view+json": {
       "version_major": 2,
       "version_minor": 0,
       "model_id": "159b0773462c43d6b8eba19fc32e84fd"
      }
     },
     "metadata": {},
     "output_type": "display_data"
    },
    {
     "name": "stderr",
     "output_type": "stream",
     "text": [
      "2024/05/24 14:46:55 WARNING mlflow.pytorch: Stored model version '2.0.1+cu117' does not match installed PyTorch version '2.0.1'\n"
     ]
    },
    {
     "data": {
      "text/plain": [
       "Extracting train dataset:   0%|          | 0/12994 [00:00<?, ?traj/s]"
      ],
      "application/vnd.jupyter.widget-view+json": {
       "version_major": 2,
       "version_minor": 0,
       "model_id": "56bdcfe86d72444e9f233e9970d1b75d"
      }
     },
     "metadata": {},
     "output_type": "display_data"
    },
    {
     "data": {
      "text/plain": [
       "Extracting val dataset:   0%|          | 0/1857 [00:00<?, ?traj/s]"
      ],
      "application/vnd.jupyter.widget-view+json": {
       "version_major": 2,
       "version_minor": 0,
       "model_id": "7c03c10e63484318b9299ff97417c0c0"
      }
     },
     "metadata": {},
     "output_type": "display_data"
    },
    {
     "data": {
      "text/plain": [
       "Extracting test dataset:   0%|          | 0/3713 [00:00<?, ?traj/s]"
      ],
      "application/vnd.jupyter.widget-view+json": {
       "version_major": 2,
       "version_minor": 0,
       "model_id": "0ed00cd4d7154615b90eaf5f6a6f7c53"
      }
     },
     "metadata": {},
     "output_type": "display_data"
    },
    {
     "name": "stderr",
     "output_type": "stream",
     "text": [
      "2024/05/24 14:47:44 WARNING mlflow.pytorch: Stored model version '2.0.1+cu117' does not match installed PyTorch version '2.0.1'\n"
     ]
    },
    {
     "data": {
      "text/plain": [
       "Extracting train dataset:   0%|          | 0/12994 [00:00<?, ?traj/s]"
      ],
      "application/vnd.jupyter.widget-view+json": {
       "version_major": 2,
       "version_minor": 0,
       "model_id": "071353b114fd4adbbfa14edcae2fea9c"
      }
     },
     "metadata": {},
     "output_type": "display_data"
    },
    {
     "data": {
      "text/plain": [
       "Extracting val dataset:   0%|          | 0/1857 [00:00<?, ?traj/s]"
      ],
      "application/vnd.jupyter.widget-view+json": {
       "version_major": 2,
       "version_minor": 0,
       "model_id": "a1db583dee79417f85f5d5991d3f5147"
      }
     },
     "metadata": {},
     "output_type": "display_data"
    },
    {
     "data": {
      "text/plain": [
       "Extracting test dataset:   0%|          | 0/3713 [00:00<?, ?traj/s]"
      ],
      "application/vnd.jupyter.widget-view+json": {
       "version_major": 2,
       "version_minor": 0,
       "model_id": "ae08e3306a5044be80c50bfd6d33ac8b"
      }
     },
     "metadata": {},
     "output_type": "display_data"
    },
    {
     "name": "stderr",
     "output_type": "stream",
     "text": [
      "2024/05/24 14:48:32 WARNING mlflow.pytorch: Stored model version '2.0.1+cu117' does not match installed PyTorch version '2.0.1'\n"
     ]
    },
    {
     "data": {
      "text/plain": [
       "Extracting train dataset:   0%|          | 0/12994 [00:00<?, ?traj/s]"
      ],
      "application/vnd.jupyter.widget-view+json": {
       "version_major": 2,
       "version_minor": 0,
       "model_id": "067c76dfd1184d139274e196dd76bb98"
      }
     },
     "metadata": {},
     "output_type": "display_data"
    },
    {
     "data": {
      "text/plain": [
       "Extracting val dataset:   0%|          | 0/1857 [00:00<?, ?traj/s]"
      ],
      "application/vnd.jupyter.widget-view+json": {
       "version_major": 2,
       "version_minor": 0,
       "model_id": "f2d35de7eca94c7981a94b45404cb7ed"
      }
     },
     "metadata": {},
     "output_type": "display_data"
    },
    {
     "data": {
      "text/plain": [
       "Extracting test dataset:   0%|          | 0/3713 [00:00<?, ?traj/s]"
      ],
      "application/vnd.jupyter.widget-view+json": {
       "version_major": 2,
       "version_minor": 0,
       "model_id": "4aa760b64286425787ec12519997e70e"
      }
     },
     "metadata": {},
     "output_type": "display_data"
    },
    {
     "name": "stderr",
     "output_type": "stream",
     "text": [
      "2024/05/24 14:49:20 WARNING mlflow.pytorch: Stored model version '2.0.1+cu117' does not match installed PyTorch version '2.0.1'\n"
     ]
    },
    {
     "data": {
      "text/plain": [
       "Extracting train dataset:   0%|          | 0/12994 [00:00<?, ?traj/s]"
      ],
      "application/vnd.jupyter.widget-view+json": {
       "version_major": 2,
       "version_minor": 0,
       "model_id": "f49dde7661dd4ed2a735d5803a5adb3c"
      }
     },
     "metadata": {},
     "output_type": "display_data"
    },
    {
     "data": {
      "text/plain": [
       "Extracting val dataset:   0%|          | 0/1857 [00:00<?, ?traj/s]"
      ],
      "application/vnd.jupyter.widget-view+json": {
       "version_major": 2,
       "version_minor": 0,
       "model_id": "b74914779b7a41bd9129efa140586d8b"
      }
     },
     "metadata": {},
     "output_type": "display_data"
    },
    {
     "data": {
      "text/plain": [
       "Extracting test dataset:   0%|          | 0/3713 [00:00<?, ?traj/s]"
      ],
      "application/vnd.jupyter.widget-view+json": {
       "version_major": 2,
       "version_minor": 0,
       "model_id": "e74655b9b820429c9e557e1fcee5836a"
      }
     },
     "metadata": {},
     "output_type": "display_data"
    },
    {
     "name": "stderr",
     "output_type": "stream",
     "text": [
      "2024/05/24 14:50:08 WARNING mlflow.pytorch: Stored model version '2.0.1+cu117' does not match installed PyTorch version '2.0.1'\n"
     ]
    },
    {
     "data": {
      "text/plain": [
       "Extracting train dataset:   0%|          | 0/12994 [00:00<?, ?traj/s]"
      ],
      "application/vnd.jupyter.widget-view+json": {
       "version_major": 2,
       "version_minor": 0,
       "model_id": "c2af74bdeee04399b178d94a1cd873cf"
      }
     },
     "metadata": {},
     "output_type": "display_data"
    },
    {
     "data": {
      "text/plain": [
       "Extracting val dataset:   0%|          | 0/1857 [00:00<?, ?traj/s]"
      ],
      "application/vnd.jupyter.widget-view+json": {
       "version_major": 2,
       "version_minor": 0,
       "model_id": "a3bb007605984e4caed057bcd6e58945"
      }
     },
     "metadata": {},
     "output_type": "display_data"
    },
    {
     "data": {
      "text/plain": [
       "Extracting test dataset:   0%|          | 0/3713 [00:00<?, ?traj/s]"
      ],
      "application/vnd.jupyter.widget-view+json": {
       "version_major": 2,
       "version_minor": 0,
       "model_id": "c7333e1e491e414ebe6ac321e3a8b51c"
      }
     },
     "metadata": {},
     "output_type": "display_data"
    },
    {
     "name": "stderr",
     "output_type": "stream",
     "text": [
      "2024/05/24 14:50:55 WARNING mlflow.pytorch: Stored model version '2.0.1+cu117' does not match installed PyTorch version '2.0.1'\n"
     ]
    },
    {
     "data": {
      "text/plain": [
       "Extracting train dataset:   0%|          | 0/12994 [00:00<?, ?traj/s]"
      ],
      "application/vnd.jupyter.widget-view+json": {
       "version_major": 2,
       "version_minor": 0,
       "model_id": "3216225a4b8548c7b7cc103a15edaa55"
      }
     },
     "metadata": {},
     "output_type": "display_data"
    },
    {
     "data": {
      "text/plain": [
       "Extracting val dataset:   0%|          | 0/1857 [00:00<?, ?traj/s]"
      ],
      "application/vnd.jupyter.widget-view+json": {
       "version_major": 2,
       "version_minor": 0,
       "model_id": "79028ff0b9ef4c1a81889f6fe65c5b88"
      }
     },
     "metadata": {},
     "output_type": "display_data"
    },
    {
     "data": {
      "text/plain": [
       "Extracting test dataset:   0%|          | 0/3713 [00:00<?, ?traj/s]"
      ],
      "application/vnd.jupyter.widget-view+json": {
       "version_major": 2,
       "version_minor": 0,
       "model_id": "a176a0fd9cbe4d3f8b04f8cdbaabba42"
      }
     },
     "metadata": {},
     "output_type": "display_data"
    },
    {
     "name": "stderr",
     "output_type": "stream",
     "text": [
      "2024/05/24 14:51:41 WARNING mlflow.pytorch: Stored model version '2.0.1+cu117' does not match installed PyTorch version '2.0.1'\n"
     ]
    },
    {
     "data": {
      "text/plain": [
       "Extracting train dataset:   0%|          | 0/12994 [00:00<?, ?traj/s]"
      ],
      "application/vnd.jupyter.widget-view+json": {
       "version_major": 2,
       "version_minor": 0,
       "model_id": "7f9746bb6aa44ab6b38fe72141fe008f"
      }
     },
     "metadata": {},
     "output_type": "display_data"
    },
    {
     "data": {
      "text/plain": [
       "Extracting val dataset:   0%|          | 0/1857 [00:00<?, ?traj/s]"
      ],
      "application/vnd.jupyter.widget-view+json": {
       "version_major": 2,
       "version_minor": 0,
       "model_id": "7fb6432965b84019a3055af8fc50618d"
      }
     },
     "metadata": {},
     "output_type": "display_data"
    },
    {
     "data": {
      "text/plain": [
       "Extracting test dataset:   0%|          | 0/3713 [00:00<?, ?traj/s]"
      ],
      "application/vnd.jupyter.widget-view+json": {
       "version_major": 2,
       "version_minor": 0,
       "model_id": "5114d7a3a6b84eb0913589cdfd93def0"
      }
     },
     "metadata": {},
     "output_type": "display_data"
    },
    {
     "name": "stderr",
     "output_type": "stream",
     "text": [
      "2024/05/24 14:52:28 WARNING mlflow.pytorch: Stored model version '2.0.1+cu117' does not match installed PyTorch version '2.0.1'\n"
     ]
    },
    {
     "data": {
      "text/plain": [
       "Extracting train dataset:   0%|          | 0/12994 [00:00<?, ?traj/s]"
      ],
      "application/vnd.jupyter.widget-view+json": {
       "version_major": 2,
       "version_minor": 0,
       "model_id": "f02c9fa5e88441499cb20fc32a029533"
      }
     },
     "metadata": {},
     "output_type": "display_data"
    },
    {
     "data": {
      "text/plain": [
       "Extracting val dataset:   0%|          | 0/1857 [00:00<?, ?traj/s]"
      ],
      "application/vnd.jupyter.widget-view+json": {
       "version_major": 2,
       "version_minor": 0,
       "model_id": "e4b185a2745b4d32adf3715f462f3116"
      }
     },
     "metadata": {},
     "output_type": "display_data"
    },
    {
     "data": {
      "text/plain": [
       "Extracting test dataset:   0%|          | 0/3713 [00:00<?, ?traj/s]"
      ],
      "application/vnd.jupyter.widget-view+json": {
       "version_major": 2,
       "version_minor": 0,
       "model_id": "bb7e3911a6c7489e93c93a33a57ee76c"
      }
     },
     "metadata": {},
     "output_type": "display_data"
    },
    {
     "name": "stderr",
     "output_type": "stream",
     "text": [
      "2024/05/24 14:53:15 WARNING mlflow.pytorch: Stored model version '2.0.1+cu117' does not match installed PyTorch version '2.0.1'\n"
     ]
    },
    {
     "data": {
      "text/plain": [
       "Extracting train dataset:   0%|          | 0/12994 [00:00<?, ?traj/s]"
      ],
      "application/vnd.jupyter.widget-view+json": {
       "version_major": 2,
       "version_minor": 0,
       "model_id": "369672e624b84620a1ea6575502bdb62"
      }
     },
     "metadata": {},
     "output_type": "display_data"
    },
    {
     "data": {
      "text/plain": [
       "Extracting val dataset:   0%|          | 0/1857 [00:00<?, ?traj/s]"
      ],
      "application/vnd.jupyter.widget-view+json": {
       "version_major": 2,
       "version_minor": 0,
       "model_id": "f6d8f3995ab74f6eb9e7e9641d9ae261"
      }
     },
     "metadata": {},
     "output_type": "display_data"
    },
    {
     "data": {
      "text/plain": [
       "Extracting test dataset:   0%|          | 0/3713 [00:00<?, ?traj/s]"
      ],
      "application/vnd.jupyter.widget-view+json": {
       "version_major": 2,
       "version_minor": 0,
       "model_id": "b70ad56fb84141dcae2b1e4e7fec82dc"
      }
     },
     "metadata": {},
     "output_type": "display_data"
    },
    {
     "name": "stdout",
     "output_type": "stream",
     "text": [
      "peng Test Return Bounds:\n",
      "Min Return: -4.7757 +/- 0.6148\n",
      "Max Return: 4.1032 +/- 0.4904\n"
     ]
    }
   ],
   "execution_count": 13
  },
  {
   "metadata": {},
   "cell_type": "code",
   "outputs": [],
   "execution_count": null,
   "source": "",
   "id": "beb1b2651f5317a3"
  }
 ],
 "metadata": {
  "kernelspec": {
   "display_name": "Python 3",
   "language": "python",
   "name": "python3"
  },
  "language_info": {
   "codemirror_mode": {
    "name": "ipython",
    "version": 2
   },
   "file_extension": ".py",
   "mimetype": "text/x-python",
   "name": "python",
   "nbconvert_exporter": "python",
   "pygments_lexer": "ipython2",
   "version": "2.7.6"
  }
 },
 "nbformat": 4,
 "nbformat_minor": 5
}
