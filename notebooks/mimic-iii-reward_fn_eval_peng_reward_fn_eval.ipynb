{
 "cells": [
  {
   "cell_type": "code",
   "id": "initial_id",
   "metadata": {
    "collapsed": true,
    "ExecuteTime": {
     "end_time": "2024-09-16T21:03:53.518714Z",
     "start_time": "2024-09-16T21:03:53.515760Z"
    }
   },
   "source": [
    "import os\n",
    "import torch\n",
    "import mlflow\n",
    "import numpy as np\n",
    "import pandas as pd\n",
    "import seaborn as sns\n",
    "import matplotlib.pyplot as plt\n",
    "from matplotlib.colors import LogNorm\n",
    "from sklearn.preprocessing import MinMaxScaler\n",
    "from typing import Dict, Tuple, Optional, List"
   ],
   "outputs": [],
   "execution_count": 2
  },
  {
   "metadata": {
    "ExecuteTime": {
     "end_time": "2024-09-16T21:03:53.544905Z",
     "start_time": "2024-09-16T21:03:53.542611Z"
    }
   },
   "cell_type": "code",
   "source": "os.chdir('..')  # change working directory to root",
   "id": "438ea0c66c7a6d65",
   "outputs": [],
   "execution_count": 3
  },
  {
   "metadata": {
    "ExecuteTime": {
     "end_time": "2024-09-16T21:03:54.020591Z",
     "start_time": "2024-09-16T21:03:53.582453Z"
    }
   },
   "cell_type": "code",
   "source": [
    "from agents.td3 import TD3\n",
    "from agents.d3qn import D3QN\n",
    "from mdp.mimic_iii.reward_functions.abstract_reward_function import AbstractRewardFunction\n",
    "from mdp.mimic_iii.reward_functions.factory import Factory as RewardFnFactory\n",
    "from mdp.mimic_iii.reward_functions.peng_reward_function import PengRewardFunction\n",
    "from mdp.mimic_iii.action_spaces.discrete import Discrete as DiscreteActionSpace\n",
    "from mdp.mimic_iii.state_spaces.sparse_autoencoder import SparseAutoEncoder as MimicIIISparseAutoEncoderStateSpace\n",
    "from ope.behavior_policies.kmeans_sarsa import KMeansSarsa\n",
    "from utilities import mimic_iii_funcs\n",
    "from utilities.device_manager import DeviceManager"
   ],
   "id": "95756c28ef50c2c9",
   "outputs": [],
   "execution_count": 4
  },
  {
   "metadata": {
    "ExecuteTime": {
     "end_time": "2024-09-16T21:03:54.033832Z",
     "start_time": "2024-09-16T21:03:54.029126Z"
    }
   },
   "cell_type": "code",
   "source": [
    "# reward function details dict\n",
    "reward_fn_details_dict = {\n",
    "    'sparse': {\n",
    "        'mlflow_base_path': '/Users/larry/Documents/UWT/Thesis Work/rec_sys/models/mimic-iii_reward_fn_eval/vm/mlruns',\n",
    "        'state_space_run_id': 'd5233d8c966846b0b01406a162c26fe7',\n",
    "        'behavior_policy_run_id': '97629e709d7f45ec851200c6b0d497df',\n",
    "        'd3qn_run_id': '5944007810ef4e318106533adbd6ccb6',\n",
    "        'd3qn_magic_run_id': '85de6b80c8374e489bb49164bcbf29a5',\n",
    "        'ddpg_run_id': 'cba965ed952945a1a0d9660d807cf2a0',\n",
    "        'ddpg_magic_run_id': 'f835cde18011478693931ecc0247df63',\n",
    "    },\n",
    "    'wu': {\n",
    "        'mlflow_base_path': '/Users/larry/Documents/UWT/Thesis Work/rec_sys/models/mimic-iii_reward_fn_eval/0/mlruns',\n",
    "        'state_space_run_id': 'd5233d8c966846b0b01406a162c26fe7',\n",
    "        'behavior_policy_run_id': '6dd75e96646b45938f225f3964705324',\n",
    "        'd3qn_run_id': '5d140bdb06e344bd888876561f010f0e',\n",
    "        'd3qn_magic_run_id': 'fd3f75118286426f88ca127246e33cda',\n",
    "        'ddpg_run_id': '67c02a6bab0b4d74aadf585f7c8edd87',\n",
    "        'ddpg_magic_run_id': '18ed010dada041f79639230d54ca5db7',\n",
    "    },\n",
    "    'yong': {\n",
    "        'mlflow_base_path': '/Users/larry/Documents/UWT/Thesis Work/rec_sys/models/mimic-iii_reward_fn_eval/0/mlruns',\n",
    "        'state_space_run_id': 'd5233d8c966846b0b01406a162c26fe7',\n",
    "        'behavior_policy_run_id': 'ecac4334f1994260b2bcd420b671c53a',\n",
    "        'd3qn_run_id': '8f098fb13a5b41da9e77dac2ae13d321',\n",
    "        'd3qn_magic_run_id': '29ad84ac64ed4ab98f7e10488887f301',\n",
    "        'ddpg_run_id': '30cccf0e3c2c4ffaa1a9ea1c2bf23972',\n",
    "        'ddpg_magic_run_id': '7ecad48fb0e04388b048d183b195e5f8',\n",
    "    },\n",
    "    'raghu': {\n",
    "        'mlflow_base_path': '/Users/larry/Documents/UWT/Thesis Work/rec_sys/models/mimic-iii_reward_fn_eval/1/mlruns',\n",
    "        'state_space_run_id': 'd5233d8c966846b0b01406a162c26fe7',\n",
    "        'behavior_policy_run_id': '17d5de3272cb4e2892e6e438d22c2af4',\n",
    "        'd3qn_run_id': '9a5d00e3454840499ce4697fa6bf472c',\n",
    "        'd3qn_magic_run_id': 'd2584eef61284bc4bc9d57402927b750',\n",
    "        'ddpg_run_id': 'da45045dfb1042d1a21a06360ca55239',\n",
    "        'ddpg_magic_run_id': '01c5faa0f8ee4a5b9cb08a712060dc0e',\n",
    "    },\n",
    "    'peng': {\n",
    "        'mlflow_base_path': '/Users/larry/Documents/UWT/Thesis Work/rec_sys/models/mimic-iii_reward_fn_eval/1/mlruns',\n",
    "        'state_space_run_id': 'd5233d8c966846b0b01406a162c26fe7',\n",
    "        'behavior_policy_run_id': '1e6330b7604f4aad8da905239c1b5070',\n",
    "        'd3qn_run_id': '37d3ea87328d4c94a75c5d6e0011495a',\n",
    "        'd3qn_magic_run_id': '68161afeb1ff41bbbc795f91e6a42c5b',\n",
    "        'ddpg_run_id': 'b008b48ce39d4847ae2d377b4cbb91ba',\n",
    "        'ddpg_magic_run_id': '2d6c08b95c8e40c2a6a0473a3b12f737',\n",
    "        'reward_fn_run_id': '211c5a3c31f147f38d63b6b357a7b610',\n",
    "    },\n",
    "}"
   ],
   "id": "1d9fb27c8b82ecf1",
   "outputs": [],
   "execution_count": 5
  },
  {
   "metadata": {
    "ExecuteTime": {
     "end_time": "2024-09-16T21:03:54.059446Z",
     "start_time": "2024-09-16T21:03:54.048626Z"
    }
   },
   "cell_type": "code",
   "source": [
    "class SimpleDataset(torch.utils.data.Dataset):\n",
    "    def __init__(self, data: torch.FloatTensor, lbls: torch.LongTensor):\n",
    "        super().__init__()\n",
    "        self._data = data\n",
    "        self._lbls = lbls\n",
    "        \n",
    "    def __len__(self) -> int:\n",
    "        return self._data.size(0)\n",
    "\n",
    "    def __getitem__(self, item: int) -> Tuple[torch.FloatTensor, torch.LongTensor]:\n",
    "        return self._data[item], self._lbls[item]\n",
    "\n",
    "def load_split_peng_train_val_data(split_: int, batch_size: int = 512) -> Tuple[torch.utils.data.DataLoader, torch.utils.data.DataLoader]:\n",
    "    # load and preprocess mimic data\n",
    "    discrete_mimic_df = mimic_iii_funcs.load_standardized_mimic_data(split_)\n",
    "    discrete_mimic_df, discrete_min_max_scaler, _ = mimic_iii_funcs.preprocess_mimic_data(discrete_mimic_df, 'peng_reward_fn')\n",
    "    # discrete split\n",
    "    (\n",
    "        (train_survived_data, train_survived_lbls, train_died_data, train_died_lbls),\n",
    "        (val_survived_data, val_survived_lbls, val_died_data, val_died_lbls),\n",
    "        (test_survived_data, test_survived_lbls, test_died_data, test_died_lbls)\n",
    "    ) = mimic_iii_funcs.train_val_test_split_mimic_data(discrete_mimic_df, 'peng_reward_fn')\n",
    "    # stack data\n",
    "    train_data, train_lbls = torch.vstack((train_survived_data, train_died_data)), torch.concat((train_survived_lbls, train_died_lbls), dim=0)\n",
    "    val_data, val_lbls = torch.vstack((val_survived_data, val_died_data)), torch.concat((val_survived_lbls, val_died_lbls), dim=0)\n",
    "    # test_data, test_lbls = torch.vstack((test_survived_data, test_died_data)), torch.concat((test_survived_lbls, test_died_lbls), dim=0)\n",
    "    # create discrete dataloaders\n",
    "    train_dataset = SimpleDataset(train_data, train_lbls)\n",
    "    train_dataloader = torch.utils.data.DataLoader(train_dataset, batch_size=batch_size, shuffle=False)\n",
    "    val_dataset = SimpleDataset(val_data, val_lbls)\n",
    "    val_dataloader = torch.utils.data.DataLoader(val_dataset, batch_size=batch_size, shuffle=False)\n",
    "    return train_dataloader, val_dataloader\n",
    "\n",
    "def load_reward_fn(reward_fn_results_dict_: Dict[str, str], split_: int) -> AbstractRewardFunction:\n",
    "    reward_fn_ = RewardFnFactory.create('peng')\n",
    "    peng_run_id = reward_fn_results_dict_['reward_fn_run_id']\n",
    "    reward_fn_.load(f'runs:/{peng_run_id}/split_{split_}')\n",
    "    return reward_fn_\n",
    "\n",
    "def eval_peng_reward_fn(reward_fn: PengRewardFunction, dataloader: torch.utils.data.DataLoader) -> float:\n",
    "    reward_fn.eval()\n",
    "    acc, num_samps = 0.0, 0\n",
    "    for data, lbls in dataloader:\n",
    "        with torch.no_grad():\n",
    "            preds = reward_fn.predict(data)\n",
    "            preds = torch.where(preds > 0.5, 1, 0)\n",
    "            batch_acc = (preds == lbls).sum().cpu().item()\n",
    "            acc += batch_acc\n",
    "            num_samps += lbls.size(0)\n",
    "    acc /= num_samps # mean acc\n",
    "    return acc\n",
    "\n",
    "def compute_peng_stats(reward_fn_details_dict_: Dict[str, Dict[str, str]], splits: List[int] = list(range(10))) -> pd.DataFrame:\n",
    "    results = pd.DataFrame(columns=['acc', 'dataset', 'split'])\n",
    "    reward_fn_results_dict = reward_fn_details_dict_['peng']\n",
    "    mlflow_path = reward_fn_results_dict['mlflow_base_path']\n",
    "    mlflow.set_tracking_uri(mlflow_path)\n",
    "    for split in splits:\n",
    "        reward_fn = load_reward_fn(reward_fn_results_dict, split)\n",
    "        train_dataloader, val_dataloader = load_split_peng_train_val_data(split)\n",
    "        mean_train_acc = eval_peng_reward_fn(reward_fn, train_dataloader)\n",
    "        mean_val_acc = eval_peng_reward_fn(reward_fn, val_dataloader)\n",
    "        results.loc[results.shape[0]] = [mean_train_acc, 'train', split]\n",
    "        results.loc[results.shape[0]] = [mean_val_acc, 'val', split]\n",
    "    results['split'] = results['split'].astype(int)\n",
    "    return results\n",
    "    \n",
    "def do_peng_stats_plots(results: pd.DataFrame):\n",
    "    ax = sns.boxplot(results, x='dataset', y='acc')\n",
    "    plt.show()\n",
    "\n",
    "def extract_peng_stats(results: pd.DataFrame) -> Tuple[float, float, float, float]:\n",
    "    train_view = results.loc[results.dataset == 'train', 'acc']\n",
    "    train_acc_mean = train_view.mean().item()\n",
    "    train_acc_std = train_view.std().item()\n",
    "    val_view = results.loc[results.dataset == 'val', 'acc']\n",
    "    val_acc_mean = val_view.mean().item()\n",
    "    val_acc_std = val_view.std().item()\n",
    "    return train_acc_mean, train_acc_std, val_acc_mean, val_acc_std"
   ],
   "id": "40779003201ffd9a",
   "outputs": [],
   "execution_count": 6
  },
  {
   "metadata": {
    "ExecuteTime": {
     "end_time": "2024-09-16T21:04:21.485587Z",
     "start_time": "2024-09-16T21:03:54.067372Z"
    }
   },
   "cell_type": "code",
   "source": [
    "results_df = compute_peng_stats(reward_fn_details_dict)\n",
    "do_peng_stats_plots(results_df)"
   ],
   "id": "b77b7f7d4744149d",
   "outputs": [
    {
     "name": "stderr",
     "output_type": "stream",
     "text": [
      "2024/09/16 14:03:54 WARNING mlflow.pytorch: Stored model version '2.0.1+cu117' does not match installed PyTorch version '2.0.1'\n",
      "2024/09/16 14:03:57 WARNING mlflow.pytorch: Stored model version '2.0.1+cu117' does not match installed PyTorch version '2.0.1'\n",
      "2024/09/16 14:04:00 WARNING mlflow.pytorch: Stored model version '2.0.1+cu117' does not match installed PyTorch version '2.0.1'\n",
      "2024/09/16 14:04:02 WARNING mlflow.pytorch: Stored model version '2.0.1+cu117' does not match installed PyTorch version '2.0.1'\n",
      "2024/09/16 14:04:05 WARNING mlflow.pytorch: Stored model version '2.0.1+cu117' does not match installed PyTorch version '2.0.1'\n",
      "2024/09/16 14:04:08 WARNING mlflow.pytorch: Stored model version '2.0.1+cu117' does not match installed PyTorch version '2.0.1'\n",
      "2024/09/16 14:04:10 WARNING mlflow.pytorch: Stored model version '2.0.1+cu117' does not match installed PyTorch version '2.0.1'\n",
      "2024/09/16 14:04:13 WARNING mlflow.pytorch: Stored model version '2.0.1+cu117' does not match installed PyTorch version '2.0.1'\n",
      "2024/09/16 14:04:16 WARNING mlflow.pytorch: Stored model version '2.0.1+cu117' does not match installed PyTorch version '2.0.1'\n",
      "2024/09/16 14:04:18 WARNING mlflow.pytorch: Stored model version '2.0.1+cu117' does not match installed PyTorch version '2.0.1'\n"
     ]
    },
    {
     "data": {
      "text/plain": [
       "<Figure size 640x480 with 1 Axes>"
      ],
      "image/png": "[encoded data removed]"
     },
     "metadata": {},
     "output_type": "display_data"
    }
   ],
   "execution_count": 7
  },
  {
   "metadata": {
    "ExecuteTime": {
     "end_time": "2024-09-16T21:04:21.499458Z",
     "start_time": "2024-09-16T21:04:21.495250Z"
    }
   },
   "cell_type": "code",
   "source": [
    "train_mean_acc, train_std_acc, val_mean_acc, val_std_acc = extract_peng_stats(results_df)\n",
    "print(f'Train Accuracy: {train_mean_acc:.4f} +/- {train_std_acc:.4f}')\n",
    "print(f'Validation Accuracy: {val_mean_acc:.4f} +/- {val_std_acc:.4f}')"
   ],
   "id": "2e7a19c6063ab590",
   "outputs": [
    {
     "name": "stdout",
     "output_type": "stream",
     "text": [
      "Train Accuracy: 0.7262 +/- 0.0195\n",
      "Validation Accuracy: 0.7284 +/- 0.0188\n"
     ]
    }
   ],
   "execution_count": 8
  },
  {
   "metadata": {
    "ExecuteTime": {
     "end_time": "2024-09-16T21:04:21.568791Z",
     "start_time": "2024-09-16T21:04:21.566829Z"
    }
   },
   "cell_type": "code",
   "source": "",
   "id": "46ff9954d4e8aa5b",
   "outputs": [],
   "execution_count": null
  }
 ],
 "metadata": {
  "kernelspec": {
   "display_name": "Python 3",
   "language": "python",
   "name": "python3"
  },
  "language_info": {
   "codemirror_mode": {
    "name": "ipython",
    "version": 2
   },
   "file_extension": ".py",
   "mimetype": "text/x-python",
   "name": "python",
   "nbconvert_exporter": "python",
   "pygments_lexer": "ipython2",
   "version": "2.7.6"
  }
 },
 "nbformat": 4,
 "nbformat_minor": 5
}
