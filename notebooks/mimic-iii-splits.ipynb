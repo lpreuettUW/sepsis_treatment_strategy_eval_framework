{
 "cells": [
  {
   "cell_type": "code",
   "id": "initial_id",
   "metadata": {
    "collapsed": true,
    "ExecuteTime": {
     "end_time": "2024-05-08T05:09:13.817649Z",
     "start_time": "2024-05-08T05:09:13.814008Z"
    }
   },
   "source": [
    "import os\n",
    "import numpy as np\n",
    "import pandas as pd\n",
    "import seaborn as sns\n",
    "import matplotlib.pyplot as plt\n",
    "from sklearn.model_selection import train_test_split"
   ],
   "execution_count": 38,
   "outputs": []
  },
  {
   "metadata": {
    "ExecuteTime": {
     "end_time": "2024-05-08T04:44:56.504052Z",
     "start_time": "2024-05-08T04:44:55.468696Z"
    }
   },
   "cell_type": "code",
   "source": [
    "preprocessed_cohort_path = '<your_base_path>/off_policy_policy_evaluation/datasets/mimic_iii/preprocessed_cohort/sepsis_final_data_RAW_withTimes_90_day_death_window.csv'\n",
    "preprocessed_cohort = pd.read_csv(preprocessed_cohort_path)\n",
    "preprocessed_cohort.head()"
   ],
   "id": "a6f31565fba58300",
   "execution_count": 2,
   "outputs": []
  },
  {
   "metadata": {},
   "cell_type": "markdown",
   "source": [
    "# 30 Stratified splits using length of trajectories\n",
    "### We will save the splits in a csv file with the following columns:\n",
    "- traj\n",
    "- split (train, test)\n",
    "\n",
    "### First, compute the length of each trajectory\n",
    "### Next, compute split\n",
    "### Finally, save the splits in a csv file\n",
    "### Repeat the process for 30 times"
   ],
   "id": "cb17da51c68f18c1"
  },
  {
   "metadata": {
    "ExecuteTime": {
     "end_time": "2024-05-08T04:46:07.520102Z",
     "start_time": "2024-05-08T04:46:07.509317Z"
    }
   },
   "cell_type": "code",
   "source": [
    "traj_step_counts = preprocessed_cohort.groupby('traj')['step'].max() + 1 # add one for the 0-based index\n",
    "traj_step_counts.rename('traj_length', inplace=True)\n",
    "traj_step_counts.head()"
   ],
   "id": "70d0b29e365fa0de",
   "execution_count": 3,
   "outputs": []
  },
  {
   "metadata": {
    "ExecuteTime": {
     "end_time": "2024-05-08T04:59:19.701978Z",
     "start_time": "2024-05-08T04:59:19.697726Z"
    }
   },
   "cell_type": "code",
   "source": "preprocessed_cohort.loc[preprocessed_cohort['traj'] == 1, 'r:reward'].to_numpy().nonzero()[0][0]",
   "id": "f65ec9490dc509eb",
   "execution_count": 19,
   "outputs": []
  },
  {
   "metadata": {
    "ExecuteTime": {
     "end_time": "2024-05-08T05:09:26.546621Z",
     "start_time": "2024-05-08T05:09:26.134050Z"
    }
   },
   "cell_type": "code",
   "source": [
    "survived = preprocessed_cohort.groupby('traj')['r:reward'].aggregate(lambda r: r.iloc[r.to_numpy().nonzero()[0][0]])\n",
    "survived.rename('survived', inplace=True)\n",
    "assert (survived != 0).all()\n",
    "survived.head()"
   ],
   "id": "710611621a39ae3d",
   "execution_count": 40,
   "outputs": []
  },
  {
   "metadata": {
    "ExecuteTime": {
     "end_time": "2024-05-08T05:09:44.728692Z",
     "start_time": "2024-05-08T05:09:44.718652Z"
    }
   },
   "cell_type": "code",
   "source": [
    "traj_df = survived.to_frame().join(traj_step_counts.to_frame(), on='traj')\n",
    "traj_df['survived'] = np.isclose(traj_df['survived'], 1.0)\n",
    "traj_df.head()"
   ],
   "id": "205a6c8480709858",
   "execution_count": 44,
   "outputs": []
  },
  {
   "metadata": {
    "ExecuteTime": {
     "end_time": "2024-05-08T05:11:30.990316Z",
     "start_time": "2024-05-08T05:11:30.845495Z"
    }
   },
   "cell_type": "code",
   "source": [
    "traj_df['strat_col'] = traj_df.apply(lambda row: f'{row[\"traj_length\"]}_{row[\"survived\"]}', axis=1)\n",
    "traj_df.head()"
   ],
   "id": "b258b85fb2d4702c",
   "execution_count": 49,
   "outputs": []
  },
  {
   "metadata": {
    "ExecuteTime": {
     "end_time": "2024-05-08T05:10:10.453004Z",
     "start_time": "2024-05-08T05:10:10.422395Z"
    }
   },
   "cell_type": "code",
   "source": [
    "test = preprocessed_cohort.merge(traj_df, on='traj', how='left')\n",
    "test.head()"
   ],
   "id": "eb21c1e5c0e446cc",
   "execution_count": 45,
   "outputs": []
  },
  {
   "metadata": {
    "ExecuteTime": {
     "end_time": "2024-05-08T05:15:42.322678Z",
     "start_time": "2024-05-08T05:15:42.315230Z"
    }
   },
   "cell_type": "code",
   "source": "test.isnull().any().any()",
   "id": "bed3ae3eae668a73",
   "execution_count": 57,
   "outputs": []
  },
  {
   "metadata": {
    "ExecuteTime": {
     "end_time": "2024-05-08T05:15:45.344990Z",
     "start_time": "2024-05-08T05:15:42.378007Z"
    }
   },
   "cell_type": "code",
   "source": [
    "import math\n",
    "\n",
    "# Now compute split\n",
    "train_split = 0.7\n",
    "val_split = 0.1\n",
    "test_split = 0.2\n",
    "num_splits = 30\n",
    "\n",
    "split_save_path = '<your_base_path>/off_policy_policy_evaluation/datasets/mimic_iii/stratified_splits/'\n",
    "if not os.path.isdir(split_save_path):\n",
    "    os.makedirs(split_save_path)\n",
    "\n",
    "for i in range(num_splits):\n",
    "    remainder_data, test_data = train_test_split(traj_df, test_size=math.ceil(traj_df.shape[0] * test_split), stratify=traj_df['strat_col'])\n",
    "    train_data, val_data = train_test_split(remainder_data, test_size=math.ceil(traj_step_counts.shape[0] * val_split), stratify=remainder_data['strat_col'])\n",
    "    train_data = train_data.reset_index()\n",
    "    val_data = val_data.reset_index()\n",
    "    test_data = test_data.reset_index()\n",
    "    train_data['split'] = 'train'\n",
    "    val_data['split'] = 'val'\n",
    "    test_data['split'] = 'test'\n",
    "    data = pd.concat([train_data, val_data, test_data])\n",
    "    data.drop('strat_col', axis=1, inplace=True)\n",
    "    assert (data['split'] == 'train').sum() + (data['split'] == 'val').sum() + (data['split'] == 'test').sum() == data.shape[0] == traj_step_counts.shape[0], 'Error in split'\n",
    "    data.to_csv(os.path.join(split_save_path, f'split_{i}.csv'))\n",
    "    loaded_data = pd.read_csv(os.path.join(split_save_path, f'split_{i}.csv'), index_col=0)\n",
    "    assert data.equals(loaded_data), f'Error in saving dataframe {i}'\n",
    "    \n",
    "#print(train_data.value_counts())\n",
    "#print(test_data.value_counts())"
   ],
   "id": "35f96110ef4814a2",
   "execution_count": 58,
   "outputs": []
  },
  {
   "metadata": {
    "ExecuteTime": {
     "end_time": "2024-05-08T05:15:45.351279Z",
     "start_time": "2024-05-08T05:15:45.346344Z"
    }
   },
   "cell_type": "code",
   "source": "data.head()",
   "id": "5f6000a60f6af79f",
   "execution_count": 59,
   "outputs": []
  },
  {
   "metadata": {
    "ExecuteTime": {
     "end_time": "2024-05-08T05:15:45.362484Z",
     "start_time": "2024-05-08T05:15:45.352185Z"
    }
   },
   "cell_type": "code",
   "source": "data.loc[data['split'] == 'train', 'survived'].value_counts()",
   "id": "5fc302f3ebbe61c9",
   "execution_count": 60,
   "outputs": []
  },
  {
   "metadata": {
    "ExecuteTime": {
     "end_time": "2024-05-08T05:15:45.370494Z",
     "start_time": "2024-05-08T05:15:45.364465Z"
    }
   },
   "cell_type": "code",
   "source": "data.loc[data['split'] == 'val', 'survived'].value_counts()",
   "id": "8901946f7c26b31d",
   "execution_count": 61,
   "outputs": []
  },
  {
   "metadata": {
    "ExecuteTime": {
     "end_time": "2024-05-08T05:15:45.385781Z",
     "start_time": "2024-05-08T05:15:45.371663Z"
    }
   },
   "cell_type": "code",
   "source": "data.loc[data['split'] == 'test', 'survived'].value_counts()",
   "id": "defec0cfb4569e6",
   "execution_count": 62,
   "outputs": []
  },
  {
   "metadata": {
    "ExecuteTime": {
     "end_time": "2024-05-08T05:15:45.390754Z",
     "start_time": "2024-05-08T05:15:45.387069Z"
    }
   },
   "cell_type": "code",
   "source": [
    "assert math.isclose(train_data.shape[0] / traj_step_counts.shape[0], train_split, rel_tol=0.01), f'Error in train split: {train_data.shape[0] / traj_step_counts.shape[0]}'\n",
    "assert math.isclose(val_data.shape[0] / traj_step_counts.shape[0], val_split, rel_tol=0.01), f'Error in val split: {val_data.shape[0] / traj_step_counts.shape[0]}'\n",
    "assert math.isclose(test_data.shape[0] / traj_step_counts.shape[0], test_split, rel_tol=0.01), f'Error in test split: {test_data.shape[0] / traj_step_counts.shape[0]}'"
   ],
   "id": "1bce633210b477e8",
   "execution_count": 63,
   "outputs": []
  },
  {
   "metadata": {
    "ExecuteTime": {
     "end_time": "2024-05-08T05:15:45.397771Z",
     "start_time": "2024-05-08T05:15:45.392119Z"
    }
   },
   "cell_type": "code",
   "source": "data.head()",
   "id": "337e39da4fa7d783",
   "execution_count": 64,
   "outputs": []
  },
  {
   "metadata": {
    "ExecuteTime": {
     "end_time": "2024-05-08T05:15:45.400945Z",
     "start_time": "2024-05-08T05:15:45.399001Z"
    }
   },
   "cell_type": "code",
   "source": "",
   "id": "546d3e986f84067b",
   "execution_count": 64,
   "outputs": []
  }
 ],
 "metadata": {
  "kernelspec": {
   "display_name": "Python 3",
   "language": "python",
   "name": "python3"
  },
  "language_info": {
   "codemirror_mode": {
    "name": "ipython",
    "version": 2
   },
   "file_extension": ".py",
   "mimetype": "text/x-python",
   "name": "python",
   "nbconvert_exporter": "python",
   "pygments_lexer": "ipython2",
   "version": "2.7.6"
  }
 },
 "nbformat": 4,
 "nbformat_minor": 5
}
